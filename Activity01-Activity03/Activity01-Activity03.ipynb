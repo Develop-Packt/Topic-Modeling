{
 "cells": [
  {
   "cell_type": "markdown",
   "metadata": {},
   "source": [
    "# CH. 7 - TOPIC MODELS\n",
    "## Activities"
   ]
  },
  {
   "cell_type": "markdown",
   "metadata": {},
   "source": [
    "#### Activity 7.01"
   ]
  },
  {
   "cell_type": "code",
   "execution_count": 1,
   "metadata": {},
   "outputs": [],
   "source": [
    "# not necessary\n",
    "# added to suppress warnings coming from pyLDAvis\n",
    "\n",
    "import warnings\n",
    "warnings.filterwarnings('ignore')"
   ]
  },
  {
   "cell_type": "code",
   "execution_count": 2,
   "metadata": {},
   "outputs": [],
   "source": [
    "import langdetect  # language detection\n",
    "import matplotlib.pyplot  # plotting\n",
    "import nltk  # natural language processing\n",
    "import numpy  # arrays and matrices\n",
    "import pandas  # dataframes\n",
    "import pyLDAvis  # plotting\n",
    "import pyLDAvis.sklearn  # plotting\n",
    "import regex  # regular expressions\n",
    "import sklearn  # machine learning"
   ]
  },
  {
   "cell_type": "code",
   "execution_count": 3,
   "metadata": {},
   "outputs": [],
   "source": [
    "# define path\n",
    "\n",
    "path = 'latimeshealth.txt'"
   ]
  },
  {
   "cell_type": "code",
   "execution_count": 4,
   "metadata": {},
   "outputs": [],
   "source": [
    "# load data\n",
    "\n",
    "df = pandas.read_csv(path, sep=\"|\", header=None)\n",
    "df.columns = [\"id\", \"datetime\", \"tweettext\"]"
   ]
  },
  {
   "cell_type": "code",
   "execution_count": 5,
   "metadata": {},
   "outputs": [],
   "source": [
    "# define quick look function for data frame\n",
    "\n",
    "def dataframe_quick_look(df, nrows):\n",
    "    print(\"SHAPE:\\n{shape}\\n\".format(shape=df.shape))\n",
    "    print(\"COLUMN NAMES:\\n{names}\\n\".format(names=df.columns))\n",
    "    print(\"HEAD:\\n{head}\\n\".format(head=df.head(nrows)))"
   ]
  },
  {
   "cell_type": "code",
   "execution_count": 6,
   "metadata": {},
   "outputs": [
    {
     "name": "stdout",
     "output_type": "stream",
     "text": [
      "SHAPE:\n",
      "(4171, 3)\n",
      "\n",
      "COLUMN NAMES:\n",
      "Index(['id', 'datetime', 'tweettext'], dtype='object')\n",
      "\n",
      "HEAD:\n",
      "                   id                        datetime  \\\n",
      "0  576760256031682561  Sat Mar 14 15:02:15 +0000 2015   \n",
      "1  576715414811471872  Sat Mar 14 12:04:04 +0000 2015   \n",
      "\n",
      "                                           tweettext  \n",
      "0  Five new running shoes that aim to go the extr...  \n",
      "1  Gym Rat: Disq class at Crunch is intense worko...  \n",
      "\n"
     ]
    }
   ],
   "source": [
    "dataframe_quick_look(df, nrows=2)"
   ]
  },
  {
   "cell_type": "code",
   "execution_count": 7,
   "metadata": {},
   "outputs": [
    {
     "name": "stdout",
     "output_type": "stream",
     "text": [
      "HEADLINES:\n",
      "['Five new running shoes that aim to go the extra mile http://lat.ms/1ELp3wU', 'Gym Rat: Disq class at Crunch is intense workout on pulley system http://lat.ms/1EKOFdr', 'Noshing through thousands of ideas at Natural Products Expo West http://lat.ms/1EHqywg', 'Natural Products Expo also explores beauty, supplements and more http://lat.ms/1EHqyfE', 'Free Fitness Weekends in South Bay beach cities aim to spark activity http://lat.ms/1EH3SMC']\n",
      "\n",
      "LENGTH:\n",
      "4171\n",
      "\n"
     ]
    }
   ],
   "source": [
    "# view final data that will be carried forward\n",
    "\n",
    "raw = df['tweettext'].tolist()\n",
    "print(\"HEADLINES:\\n{lines}\\n\".format(lines=raw[:5]))\n",
    "print(\"LENGTH:\\n{length}\\n\".format(length=len(raw)))"
   ]
  },
  {
   "cell_type": "code",
   "execution_count": 8,
   "metadata": {},
   "outputs": [],
   "source": [
    "# define function for checking language of tweets\n",
    "# filter to english only\n",
    "\n",
    "def do_language_identifying(txt):\n",
    "    try:\n",
    "       the_language = langdetect.detect(txt)\n",
    "    except:\n",
    "       the_language = 'none'\n",
    "    return the_language"
   ]
  },
  {
   "cell_type": "code",
   "execution_count": 9,
   "metadata": {},
   "outputs": [],
   "source": [
    "# define function to perform lemmatization\n",
    "\n",
    "def do_lemmatizing(wrd):\n",
    "    out = nltk.corpus.wordnet.morphy(wrd)\n",
    "    return (wrd if out is None else out)"
   ]
  },
  {
   "cell_type": "code",
   "execution_count": 10,
   "metadata": {},
   "outputs": [],
   "source": [
    "# define function to cleaning tweet data\n",
    "\n",
    "def do_tweet_cleaning(txt):\n",
    "    # identify language of tweet\n",
    "    # return null if language not english\n",
    "    lg = do_language_identifying(txt)\n",
    "    if lg != 'en':\n",
    "        return None\n",
    "    \n",
    "    # split the string on whitespace\n",
    "    out = txt.split(' ')\n",
    "    \n",
    "    # identify screen names\n",
    "    # replace with SCREENNAME\n",
    "    out = ['SCREENNAME' if i.startswith('@') else i for i in out]\n",
    "    \n",
    "    # identify urls\n",
    "    # replace with URL\n",
    "    out = [\n",
    "        'URL' if bool(regex.search('http[s]?://', i)) \n",
    "        else i for i in out\n",
    "    ]\n",
    "    \n",
    "    # remove all punctuation\n",
    "    out = [regex.sub('[^\\\\w\\\\s]|\\n', '', i) for i in out]\n",
    "    \n",
    "    # make all non-keywords lowercase\n",
    "    keys = ['SCREENNAME', 'URL']\n",
    "    out = [i.lower() if i not in keys else i for i in out]\n",
    "    \n",
    "    # remove keywords\n",
    "    out = [i for i in out if i not in keys]\n",
    "    \n",
    "    # remove stopwords\n",
    "    list_stop_words = nltk.corpus.stopwords.words('english')\n",
    "    list_stop_words = [regex.sub('[^\\\\w\\\\s]', '', i) for i in list_stop_words]\n",
    "    \n",
    "    out = [i for i in out if i not in list_stop_words]\n",
    "    \n",
    "    # lemmatizing\n",
    "    out = [do_lemmatizing(i) for i in out]\n",
    "    \n",
    "    # keep words 4 or more characters long\n",
    "    out = [i for i in out if len(i) >= 5]\n",
    "    \n",
    "    return out"
   ]
  },
  {
   "cell_type": "code",
   "execution_count": 11,
   "metadata": {},
   "outputs": [],
   "source": [
    "# apply cleaning function to every tweet\n",
    "\n",
    "clean = list(map(do_tweet_cleaning, raw))"
   ]
  },
  {
   "cell_type": "code",
   "execution_count": 13,
   "metadata": {},
   "outputs": [
    {
     "name": "stdout",
     "output_type": "stream",
     "text": [
      "HEADLINES:\n",
      "[['running', 'shoes', 'extra'], ['class', 'crunch', 'intense', 'workout', 'pulley', 'system'], ['thousand', 'natural', 'product'], ['natural', 'product', 'explore', 'beauty', 'supplement'], ['fitness', 'weekend', 'south', 'beach', 'spark', 'activity']]\n",
      "\n",
      "LENGTH:\n",
      "4084\n",
      "\n"
     ]
    }
   ],
   "source": [
    "# remove none types\n",
    "\n",
    "clean = list(filter(None.__ne__, clean))\n",
    "print(\"HEADLINES:\\n{lines}\\n\".format(lines=clean[:5]))\n",
    "print(\"LENGTH:\\n{length}\\n\".format(length=len(clean)))"
   ]
  },
  {
   "cell_type": "code",
   "execution_count": 14,
   "metadata": {},
   "outputs": [],
   "source": [
    "# turn tokens back into strings\n",
    "# concatenate using whitespaces\n",
    "\n",
    "clean_sentences = [\" \".join(i) for i in clean]"
   ]
  },
  {
   "cell_type": "code",
   "execution_count": 15,
   "metadata": {},
   "outputs": [
    {
     "name": "stdout",
     "output_type": "stream",
     "text": [
      "['running shoes extra', 'class crunch intense workout pulley system', 'thousand natural product', 'natural product explore beauty supplement', 'fitness weekend south beach spark activity', 'kayla harrison sacrifice', 'sonic treatment alzheimers disease', 'ultrasound brain restore memory alzheimers needle onlyso farin mouse', 'apple researchkit really medical research', 'warning chantix drink taking might remember']\n"
     ]
    }
   ],
   "source": [
    "print(clean_sentences[0:10])"
   ]
  },
  {
   "cell_type": "markdown",
   "metadata": {},
   "source": [
    "#### Activity 7.02"
   ]
  },
  {
   "cell_type": "code",
   "execution_count": 16,
   "metadata": {},
   "outputs": [],
   "source": [
    "# define global variables\n",
    "\n",
    "number_words = 10\n",
    "number_docs = 10\n",
    "number_features = 1000"
   ]
  },
  {
   "cell_type": "code",
   "execution_count": 17,
   "metadata": {},
   "outputs": [
    {
     "name": "stdout",
     "output_type": "stream",
     "text": [
      "  (0, 319)\t1\n"
     ]
    }
   ],
   "source": [
    "# bag of words conversion\n",
    "# count vectorizer (raw counts)\n",
    "\n",
    "vectorizer1 = sklearn.feature_extraction.text.CountVectorizer(\n",
    "    analyzer=\"word\",\n",
    "    max_df=0.95, \n",
    "    min_df=10, \n",
    "    max_features=number_features\n",
    ")\n",
    "clean_vec1 = vectorizer1.fit_transform(clean_sentences)\n",
    "print(clean_vec1[0])\n",
    "\n",
    "feature_names_vec1 = vectorizer1.get_feature_names()"
   ]
  },
  {
   "cell_type": "code",
   "execution_count": 18,
   "metadata": {},
   "outputs": [],
   "source": [
    "# define function to calculate perplexity based on number of topics\n",
    "\n",
    "def perplexity_by_ntopic(data, ntopics):\n",
    "    output_dict = {\n",
    "        \"Number Of Topics\": [], \n",
    "        \"Perplexity Score\": []\n",
    "    }\n",
    "    \n",
    "    for t in ntopics:\n",
    "        lda = sklearn.decomposition.LatentDirichletAllocation(\n",
    "            n_components=t,\n",
    "            learning_method=\"online\",\n",
    "            random_state=0\n",
    "        )\n",
    "        lda.fit(data)\n",
    "        \n",
    "        output_dict[\"Number Of Topics\"].append(t)\n",
    "        output_dict[\"Perplexity Score\"].append(lda.perplexity(data))\n",
    "        \n",
    "    output_df = pandas.DataFrame(output_dict)\n",
    "    \n",
    "    index_min_perplexity = output_df[\"Perplexity Score\"].idxmin()\n",
    "    output_num_topics = output_df.loc[\n",
    "        index_min_perplexity,  # index\n",
    "        \"Number Of Topics\"  # column\n",
    "    ]\n",
    "        \n",
    "    return (output_df, output_num_topics)"
   ]
  },
  {
   "cell_type": "code",
   "execution_count": 19,
   "metadata": {},
   "outputs": [],
   "source": [
    "# execute function on vector of numbers of topics\n",
    "# takes several minutes\n",
    "\n",
    "df_perplexity, optimal_num_topics = perplexity_by_ntopic(\n",
    "    clean_vec1, \n",
    "    ntopics=[i for i in range(1, 21) if i % 2 == 0]\n",
    ")"
   ]
  },
  {
   "cell_type": "code",
   "execution_count": 20,
   "metadata": {},
   "outputs": [
    {
     "name": "stdout",
     "output_type": "stream",
     "text": [
      "   Number Of Topics  Perplexity Score\n",
      "0                 2        340.783397\n",
      "1                 4        396.528955\n",
      "2                 6        426.758275\n",
      "3                 8        456.847605\n",
      "4                10        462.031701\n",
      "5                12        479.395070\n",
      "6                14        500.844794\n",
      "7                16        508.523682\n",
      "8                18        526.037458\n",
      "9                20        535.933416\n"
     ]
    }
   ],
   "source": [
    "print(df_perplexity)"
   ]
  },
  {
   "cell_type": "code",
   "execution_count": 21,
   "metadata": {},
   "outputs": [
    {
     "data": {
      "text/plain": [
       "LatentDirichletAllocation(batch_size=128, doc_topic_prior=None,\n",
       "                          evaluate_every=-1, learning_decay=0.7,\n",
       "                          learning_method='online', learning_offset=10.0,\n",
       "                          max_doc_update_iter=100, max_iter=10,\n",
       "                          mean_change_tol=0.001, n_components=2, n_jobs=None,\n",
       "                          perp_tol=0.1, random_state=0, topic_word_prior=None,\n",
       "                          total_samples=1000000.0, verbose=0)"
      ]
     },
     "execution_count": 21,
     "metadata": {},
     "output_type": "execute_result"
    }
   ],
   "source": [
    "# define and fit lda model\n",
    "\n",
    "lda = sklearn.decomposition.LatentDirichletAllocation(\n",
    "    n_components=optimal_num_topics,\n",
    "    learning_method=\"online\",\n",
    "    random_state=0\n",
    ")\n",
    "lda.fit(clean_vec1)"
   ]
  },
  {
   "cell_type": "code",
   "execution_count": 22,
   "metadata": {},
   "outputs": [],
   "source": [
    "# define function to format raw output into nice tables\n",
    "\n",
    "def get_topics(mod, vec, names, docs, ndocs, nwords):\n",
    "    # word to topic matrix\n",
    "    W = mod.components_\n",
    "    W_norm = W / W.sum(axis=1)[:, numpy.newaxis]\n",
    "    # topic to document matrix\n",
    "    H = mod.transform(vec)\n",
    "    \n",
    "    W_dict = {}\n",
    "    H_dict = {}\n",
    "    \n",
    "    for tpc_idx, tpc_val in enumerate(W_norm):\n",
    "        topic = \"Topic{}\".format(tpc_idx)\n",
    "        \n",
    "        # formatting w\n",
    "        W_indices = tpc_val.argsort()[::-1][:nwords]\n",
    "        W_names_values = [\n",
    "            (round(tpc_val[j], 4), names[j]) \n",
    "            for j in W_indices\n",
    "        ]\n",
    "        W_dict[topic] = W_names_values\n",
    "        \n",
    "        # formatting h\n",
    "        H_indices = H[:, tpc_idx].argsort()[::-1][:ndocs]\n",
    "        H_names_values = [\n",
    "            (round(H[:, tpc_idx][j], 4), docs[j]) \n",
    "            for j in H_indices\n",
    "        ]\n",
    "        H_dict[topic] = H_names_values\n",
    "        \n",
    "    W_df = pandas.DataFrame(\n",
    "        W_dict, \n",
    "        index=[\"Word\" + str(i) for i in range(nwords)]\n",
    "    )\n",
    "    H_df = pandas.DataFrame(\n",
    "        H_dict,\n",
    "        index=[\"Doc\" + str(i) for i in range(ndocs)]\n",
    "    )\n",
    "        \n",
    "    return (W_df, H_df)"
   ]
  },
  {
   "cell_type": "code",
   "execution_count": 23,
   "metadata": {},
   "outputs": [],
   "source": [
    "# get nice tables\n",
    "\n",
    "W_df, H_df = get_topics(\n",
    "    mod=lda,\n",
    "    vec=clean_vec1,\n",
    "    names=feature_names_vec1,\n",
    "    docs=raw,\n",
    "    ndocs=number_docs, \n",
    "    nwords=number_words\n",
    ")"
   ]
  },
  {
   "cell_type": "code",
   "execution_count": 24,
   "metadata": {},
   "outputs": [
    {
     "name": "stdout",
     "output_type": "stream",
     "text": [
      "                  Topic0                Topic1\n",
      "Word0    (0.0764, study)      (0.0455, latfit)\n",
      "Word1   (0.0285, cancer)      (0.0367, health)\n",
      "Word2   (0.0222, people)  (0.0163, researcher)\n",
      "Word3    (0.02, patient)  (0.0156, california)\n",
      "Word4    (0.0187, could)     (0.015, american)\n",
      "Word5    (0.0177, brain)      (0.0124, expert)\n",
      "Word6    (0.0156, death)        (0.012, years)\n",
      "Word7   (0.0156, doctor)      (0.0116, report)\n",
      "Word8    (0.0154, heart)    (0.0108, exercise)\n",
      "Word9  (0.0138, disease)       (0.0099, today)\n"
     ]
    }
   ],
   "source": [
    "# word-topic table\n",
    "\n",
    "print(W_df)"
   ]
  },
  {
   "cell_type": "code",
   "execution_count": 25,
   "metadata": {},
   "outputs": [
    {
     "name": "stdout",
     "output_type": "stream",
     "text": [
      "                                                 Topic0  \\\n",
      "Doc0  (0.9498, Here's a depressing new statistic: \"G...   \n",
      "Doc1  (0.9477, New Neurology study confirms that mom...   \n",
      "Doc2  (0.9443, RT @MyLastBite: 6/14/13 #Fitbit #Pedo...   \n",
      "Doc3  (0.9443, Look around at 1 and 2-yr-olds. About...   \n",
      "Doc4  (0.9443, Little innovations make a big differe...   \n",
      "Doc5  (0.944, When states implement anti-smoking pol...   \n",
      "Doc6  (0.9425, 74% of doctors surveyed said they hav...   \n",
      "Doc7  (0.9415, New test from @CityofHope suggests Pa...   \n",
      "Doc8  (0.9387, In these paralyzed patients, electrod...   \n",
      "Doc9  (0.9378, Should YOU take aspirin to prevent a ...   \n",
      "\n",
      "                                                 Topic1  \n",
      "Doc0  (0.9374, Your ears may be older (or younger) t...  \n",
      "Doc1  (0.9373, RT @kurtissl: #10000steps #LATFIT - J...  \n",
      "Doc2  (0.9362, RT @DavanMaharaj: The Western sun ris...  \n",
      "Doc3  (0.9326, Ready for a serious #workout? Try the...  \n",
      "Doc4  (0.931, RT @latimesscience: Are you connected ...  \n",
      "Doc5  (0.9284, Heavy drinking, 'incompatible' drinki...  \n",
      "Doc6  (0.9284, Need to diagnose a case of HIV in rem...  \n",
      "Doc7  (0.9284, RT @renelynch: MRT ‏@mmaltaisLAT Foot...  \n",
      "Doc8  (0.9283, Quests to be #glutenfree inspire some...  \n",
      "Doc9  (0.9283, RT @renelynch: A great reason to join...  \n"
     ]
    }
   ],
   "source": [
    "# document-topic table\n",
    "\n",
    "print(H_df)"
   ]
  },
  {
   "cell_type": "code",
   "execution_count": 26,
   "metadata": {},
   "outputs": [
    {
     "data": {
      "text/html": [
       "\n",
       "<link rel=\"stylesheet\" type=\"text/css\" href=\"https://cdn.rawgit.com/bmabey/pyLDAvis/files/ldavis.v1.0.0.css\">\n",
       "\n",
       "\n",
       "<div id=\"ldavis_el1390421709389449687050449116\"></div>\n",
       "<script type=\"text/javascript\">\n",
       "\n",
       "var ldavis_el1390421709389449687050449116_data = {\"mdsDat\": {\"x\": [0.24537261588437345, -0.24537261588437345], \"y\": [0.0, 0.0], \"topics\": [1, 2], \"cluster\": [1, 1], \"Freq\": [53.42812833301761, 46.57187166698238]}, \"tinfo\": {\"Category\": [\"Default\", \"Default\", \"Default\", \"Default\", \"Default\", \"Default\", \"Default\", \"Default\", \"Default\", \"Default\", \"Topic1\", \"Topic1\", \"Topic1\", \"Topic1\", \"Topic1\", \"Topic1\", \"Topic1\", \"Topic1\", \"Topic1\", \"Topic1\", \"Topic1\", \"Topic2\", \"Topic2\", \"Topic2\", \"Topic2\", \"Topic2\", \"Topic2\", \"Topic2\", \"Topic2\", \"Topic2\", \"Topic2\", \"Topic2\", \"Topic2\", \"Topic2\", \"Topic2\", \"Topic2\", \"Topic2\", \"Topic2\"], \"Freq\": [481.0, 248.0, 200.0, 178.0, 139.0, 125.0, 117.0, 111.0, 85.0, 82.0, 177.92246465123935, 125.21479223029905, 110.46901068671491, 117.08969488666352, 138.9471861037198, 96.06152284468446, 97.32369999097415, 85.99092371747656, 84.2802393078602, 477.3733752551866, 97.32751858813506, 248.0152290685055, 200.12343454119397, 81.50119976730247, 85.08639828052452, 50.43271915087137, 48.43834256541447, 50.91468513475152, 43.59984981808808, 45.17778411054864, 37.50876588800064, 58.856651365948316, 65.47050817610366, 67.68760604003351, 54.17604005660149, 88.95768314278999, 51.83661445895926, 63.13221494678044], \"Term\": [\"study\", \"latfit\", \"health\", \"cancer\", \"people\", \"patient\", \"could\", \"brain\", \"california\", \"american\", \"cancer\", \"patient\", \"brain\", \"could\", \"people\", \"heart\", \"doctor\", \"disease\", \"healthcare\", \"study\", \"death\", \"latfit\", \"health\", \"american\", \"california\", \"smoking\", \"school\", \"teens\", \"workout\", \"among\", \"steps\", \"exercise\", \"years\", \"expert\", \"today\", \"researcher\", \"getting\", \"report\"], \"Total\": [481.0, 248.0, 200.0, 178.0, 139.0, 125.0, 117.0, 111.0, 85.0, 82.0, 178.49506161558668, 125.77376595769096, 111.094258793189, 117.77604967686683, 139.77112571104936, 96.63193425600056, 97.98055809522276, 86.5995251403039, 85.0552007354997, 481.9264978815686, 99.95266711122468, 248.52560286724076, 200.7911596025789, 82.09347243273656, 85.74973435243582, 50.99617188043502, 48.97981678421205, 51.50963868436949, 44.127167136247785, 45.75611097326908, 38.00870270177404, 59.6757197312905, 67.17015703033256, 69.92995428744489, 56.25050331158902, 107.26424780902397, 54.0126217088762, 94.55202124124438], \"loglift\": [10.0, 9.0, 8.0, 7.0, 6.0, 5.0, 4.0, 3.0, 2.0, 1.0, 0.6236, 0.6224, 0.6212, 0.621, 0.6209, 0.6209, 0.6201, 0.6198, 0.6177, 0.6173, 0.6002, 0.7621, 0.7608, 0.7569, 0.7564, 0.7531, 0.7531, 0.7526, 0.7522, 0.7515, 0.7509, 0.7504, 0.7385, 0.7316, 0.7266, 0.577, 0.7231, 0.3603], \"logprob\": [10.0, 9.0, 8.0, 7.0, 6.0, 5.0, 4.0, 3.0, 2.0, 1.0, -3.5587, -3.9101, -4.0353, -3.9771, -3.806, -4.1751, -4.162, -4.2858, -4.3059, -2.5718, -4.162, -3.0893, -3.3038, -4.2021, -4.1591, -4.6821, -4.7225, -4.6726, -4.8277, -4.7921, -4.9782, -4.5276, -4.4211, -4.3878, -4.6105, -4.1146, -4.6546, -4.4575]}, \"token.table\": {\"Topic\": [1, 2, 1, 2, 1, 2, 1, 2, 1, 2, 1, 2, 1, 2, 1, 2, 1, 2, 1, 2, 1, 2, 1, 2, 1, 2, 1, 2, 1, 2, 1, 2, 1, 2, 1, 2, 1, 2, 1, 2, 1, 2, 1, 2, 2, 1, 2, 1, 2, 1, 2, 1, 2, 1, 2], \"Freq\": [0.012181236465778102, 0.9988613901938044, 0.021855004254714837, 0.9834751914621677, 0.9901501769301504, 0.009001365244819549, 0.011661843707759472, 0.9912567151595552, 0.9972264688383768, 0.005602395892350432, 0.9934108022896334, 0.008490690617860114, 0.9704593464430615, 0.03001420659102252, 0.9930770389406572, 0.011547407429542526, 0.9899923197592955, 0.010206106389271087, 0.01675723400577032, 0.9886768063404489, 0.028600047295599004, 0.9724016080503661, 0.03702838219518103, 0.9627379370747068, 0.00498029894333633, 0.996059788667266, 0.9875939304548689, 0.0117570706006532, 0.9934603993921262, 0.010348545827001315, 0.004023730305702899, 0.997885115814319, 0.9938479542868165, 0.007950783634294531, 0.9944829398266168, 0.007154553523932495, 0.32786184359724235, 0.6662998756976215, 0.167809874843365, 0.8297266033921936, 0.020416572899928362, 0.9799954991965614, 0.019609315035343973, 0.9804657517671986, 0.9997710339697115, 0.9897774911667562, 0.010375026112859079, 0.019413842254409914, 0.9901059549749057, 0.035555237415768146, 0.95999141022574, 0.022661776517680893, 0.9971181667779593, 0.029775127652252535, 0.9676916486982073], \"Term\": [\"american\", \"american\", \"among\", \"among\", \"brain\", \"brain\", \"california\", \"california\", \"cancer\", \"cancer\", \"could\", \"could\", \"death\", \"death\", \"disease\", \"disease\", \"doctor\", \"doctor\", \"exercise\", \"exercise\", \"expert\", \"expert\", \"getting\", \"getting\", \"health\", \"health\", \"healthcare\", \"healthcare\", \"heart\", \"heart\", \"latfit\", \"latfit\", \"patient\", \"patient\", \"people\", \"people\", \"report\", \"report\", \"researcher\", \"researcher\", \"school\", \"school\", \"smoking\", \"smoking\", \"steps\", \"study\", \"study\", \"teens\", \"teens\", \"today\", \"today\", \"workout\", \"workout\", \"years\", \"years\"]}, \"R\": 10, \"lambda.step\": 0.01, \"plot.opts\": {\"xlab\": \"PC1\", \"ylab\": \"PC2\"}, \"topic.order\": [1, 2]};\n",
       "\n",
       "function LDAvis_load_lib(url, callback){\n",
       "  var s = document.createElement('script');\n",
       "  s.src = url;\n",
       "  s.async = true;\n",
       "  s.onreadystatechange = s.onload = callback;\n",
       "  s.onerror = function(){console.warn(\"failed to load library \" + url);};\n",
       "  document.getElementsByTagName(\"head\")[0].appendChild(s);\n",
       "}\n",
       "\n",
       "if(typeof(LDAvis) !== \"undefined\"){\n",
       "   // already loaded: just create the visualization\n",
       "   !function(LDAvis){\n",
       "       new LDAvis(\"#\" + \"ldavis_el1390421709389449687050449116\", ldavis_el1390421709389449687050449116_data);\n",
       "   }(LDAvis);\n",
       "}else if(typeof define === \"function\" && define.amd){\n",
       "   // require.js is available: use it to load d3/LDAvis\n",
       "   require.config({paths: {d3: \"https://cdnjs.cloudflare.com/ajax/libs/d3/3.5.5/d3.min\"}});\n",
       "   require([\"d3\"], function(d3){\n",
       "      window.d3 = d3;\n",
       "      LDAvis_load_lib(\"https://cdn.rawgit.com/bmabey/pyLDAvis/files/ldavis.v1.0.0.js\", function(){\n",
       "        new LDAvis(\"#\" + \"ldavis_el1390421709389449687050449116\", ldavis_el1390421709389449687050449116_data);\n",
       "      });\n",
       "    });\n",
       "}else{\n",
       "    // require.js not available: dynamically load d3 & LDAvis\n",
       "    LDAvis_load_lib(\"https://cdnjs.cloudflare.com/ajax/libs/d3/3.5.5/d3.min.js\", function(){\n",
       "         LDAvis_load_lib(\"https://cdn.rawgit.com/bmabey/pyLDAvis/files/ldavis.v1.0.0.js\", function(){\n",
       "                 new LDAvis(\"#\" + \"ldavis_el1390421709389449687050449116\", ldavis_el1390421709389449687050449116_data);\n",
       "            })\n",
       "         });\n",
       "}\n",
       "</script>"
      ],
      "text/plain": [
       "<IPython.core.display.HTML object>"
      ]
     },
     "execution_count": 26,
     "metadata": {},
     "output_type": "execute_result"
    }
   ],
   "source": [
    "# iteractive plot\n",
    "# pca biplot and histogram\n",
    "\n",
    "lda_plot = pyLDAvis.sklearn.prepare(lda, clean_vec1, vectorizer1, R=10)\n",
    "pyLDAvis.display(lda_plot)"
   ]
  },
  {
   "cell_type": "markdown",
   "metadata": {},
   "source": [
    "#### Activity 7.03"
   ]
  },
  {
   "cell_type": "code",
   "execution_count": 27,
   "metadata": {},
   "outputs": [
    {
     "name": "stdout",
     "output_type": "stream",
     "text": [
      "\n"
     ]
    }
   ],
   "source": [
    "# bag of words conversion\n",
    "# tf-idf method\n",
    "\n",
    "vectorizer2 = sklearn.feature_extraction.text.TfidfVectorizer(\n",
    "    analyzer=\"word\",\n",
    "    max_df=0.5, \n",
    "    min_df=20, \n",
    "    max_features=number_features,\n",
    "    smooth_idf=False\n",
    ")\n",
    "clean_vec2 = vectorizer2.fit_transform(clean_sentences)\n",
    "print(clean_vec2[0])\n",
    "\n",
    "feature_names_vec2 = vectorizer2.get_feature_names()"
   ]
  },
  {
   "cell_type": "code",
   "execution_count": 28,
   "metadata": {},
   "outputs": [
    {
     "data": {
      "text/plain": [
       "NMF(alpha=0.1, beta_loss='frobenius', init='nndsvda', l1_ratio=0.5,\n",
       "    max_iter=200, n_components=2, random_state=0, shuffle=False, solver='mu',\n",
       "    tol=0.0001, verbose=0)"
      ]
     },
     "execution_count": 28,
     "metadata": {},
     "output_type": "execute_result"
    }
   ],
   "source": [
    "# define and fit nmf model\n",
    "\n",
    "nmf = sklearn.decomposition.NMF(\n",
    "    n_components=optimal_num_topics,\n",
    "    init=\"nndsvda\",\n",
    "    solver=\"mu\",\n",
    "    beta_loss=\"frobenius\",\n",
    "    random_state=0, \n",
    "    alpha=0.1, \n",
    "    l1_ratio=0.5\n",
    ")\n",
    "nmf.fit(clean_vec2)"
   ]
  },
  {
   "cell_type": "code",
   "execution_count": 29,
   "metadata": {},
   "outputs": [],
   "source": [
    "# get nicely formatted result tables\n",
    "\n",
    "W_df, H_df = get_topics(\n",
    "    mod=nmf,\n",
    "    vec=clean_vec2,\n",
    "    names=feature_names_vec2,\n",
    "    docs=raw,\n",
    "    ndocs=number_docs, \n",
    "    nwords=number_words\n",
    ")"
   ]
  },
  {
   "cell_type": "code",
   "execution_count": 30,
   "metadata": {},
   "outputs": [
    {
     "name": "stdout",
     "output_type": "stream",
     "text": [
      "                  Topic0                Topic1\n",
      "Word0    (0.3737, study)      (0.5925, latfit)\n",
      "Word1   (0.0259, cancer)       (0.0484, steps)\n",
      "Word2   (0.0208, people)       (0.0447, today)\n",
      "Word3  (0.0187, suggest)    (0.0403, exercise)\n",
      "Word4   (0.0185, health)  (0.0273, healthtips)\n",
      "Word5  (0.0184, obesity)     (0.0257, workout)\n",
      "Word6    (0.0182, brain)     (0.0221, fitness)\n",
      "Word7   (0.0168, weight)     (0.0203, getting)\n",
      "Word8    (0.0154, woman)       (0.0143, great)\n",
      "Word9    (0.0131, death)     (0.0132, morning)\n"
     ]
    }
   ],
   "source": [
    "# word-topic table\n",
    "\n",
    "print(W_df)"
   ]
  },
  {
   "cell_type": "code",
   "execution_count": 31,
   "metadata": {},
   "outputs": [
    {
     "name": "stdout",
     "output_type": "stream",
     "text": [
      "                                                 Topic0  \\\n",
      "Doc0  (0.203, Kerosene wick lamps produce both light...   \n",
      "Doc1  (0.203, One more new gas price record in Calif...   \n",
      "Doc2  (0.203, Docs' intensive 'get healthy' program ...   \n",
      "Doc3  (0.203, Texas judge confirms brain death is de...   \n",
      "Doc4  (0.203, Eggs made from stem cells could treat ...   \n",
      "Doc5  (0.203, Smartphone apps keep pace with costly ...   \n",
      "Doc6  (0.203, Therapeutic cloning was going to be th...   \n",
      "Doc7  (0.203, Jumping lunges bring a burn when time ...   \n",
      "Doc8  (0.203, Girls who play with Doctor Barbie, Ast...   \n",
      "Doc9  (0.203, Child's psychological mistreatment may...   \n",
      "\n",
      "                                                 Topic1  \n",
      "Doc0  (0.2274, Another vaccine fails to prevent stap...  \n",
      "Doc1  (0.2274, Happy Friday! Let go of the work week...  \n",
      "Doc2  (0.2274, Plank position is a great way to tigh...  \n",
      "Doc3  (0.2274, Healthy pets could lead to healthier ...  \n",
      "Doc4  (0.2274, RT @LATkarenkaplan: Parents, resist t...  \n",
      "Doc5  (0.2274, Ladies, a new study says your cancer ...  \n",
      "Doc6  (0.2274, Thinking of skipping breakfast? New s...  \n",
      "Doc7  (0.2274, White House is enlisting the help of ...  \n",
      "Doc8  (0.2274, Publix Super Markets recalls fruit an...  \n",
      "Doc9  (0.2274, Every 30 minutes in the U.S., a falli...  \n"
     ]
    }
   ],
   "source": [
    "# document-topic table\n",
    "\n",
    "print(H_df)"
   ]
  },
  {
   "cell_type": "code",
   "execution_count": null,
   "metadata": {},
   "outputs": [],
   "source": []
  }
 ],
 "metadata": {
  "kernelspec": {
   "display_name": "Python 3",
   "language": "python",
   "name": "python3"
  },
  "language_info": {
   "codemirror_mode": {
    "name": "ipython",
    "version": 3
   },
   "file_extension": ".py",
   "mimetype": "text/x-python",
   "name": "python",
   "nbconvert_exporter": "python",
   "pygments_lexer": "ipython3",
   "version": "3.7.4"
  }
 },
 "nbformat": 4,
 "nbformat_minor": 2
}
