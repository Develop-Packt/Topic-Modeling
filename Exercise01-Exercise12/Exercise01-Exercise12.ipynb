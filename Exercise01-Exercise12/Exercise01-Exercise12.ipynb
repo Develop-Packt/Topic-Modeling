{
 "cells": [
  {
   "cell_type": "markdown",
   "metadata": {},
   "source": [
    "# CH. 7 - TOPIC MODELS\n",
    "## Exercises"
   ]
  },
  {
   "cell_type": "markdown",
   "metadata": {},
   "source": [
    "#### Exercise 7.01: Load Libraries"
   ]
  },
  {
   "cell_type": "code",
   "execution_count": 1,
   "metadata": {},
   "outputs": [],
   "source": [
    "# not necessary\n",
    "\n",
    "# put this in to block deprecation warnings\n",
    "# from pyLDAvis\n",
    "\n",
    "import warnings\n",
    "warnings.filterwarnings('ignore')"
   ]
  },
  {
   "cell_type": "code",
   "execution_count": 2,
   "metadata": {},
   "outputs": [],
   "source": [
    "import langdetect  # language detection\n",
    "import matplotlib.pyplot  # plotting\n",
    "import nltk  # natural language processing\n",
    "import numpy  # arrays and matrices\n",
    "import pandas  # dataframes\n",
    "import pyLDAvis  # plotting\n",
    "import pyLDAvis.sklearn  # plotting\n",
    "import regex  # regular expressions\n",
    "import sklearn  # machine learning"
   ]
  },
  {
   "cell_type": "code",
   "execution_count": 3,
   "metadata": {},
   "outputs": [
    {
     "name": "stderr",
     "output_type": "stream",
     "text": [
      "[nltk_data] Error loading wordnet: <urlopen error [Errno 11001]\n",
      "[nltk_data]     getaddrinfo failed>\n",
      "[nltk_data] Downloading package stopwords to C:\\Users\\Ratan\n",
      "[nltk_data]     Singh\\AppData\\Roaming\\nltk_data...\n",
      "[nltk_data]   Package stopwords is already up-to-date!\n"
     ]
    },
    {
     "data": {
      "text/plain": [
       "True"
      ]
     },
     "execution_count": 3,
     "metadata": {},
     "output_type": "execute_result"
    }
   ],
   "source": [
    "# installing specific word dictionarys\n",
    "# used for stopword removal and lemmatization\n",
    "\n",
    "nltk.download('wordnet')\n",
    "nltk.download('stopwords')"
   ]
  },
  {
   "cell_type": "code",
   "execution_count": 4,
   "metadata": {},
   "outputs": [],
   "source": [
    "%matplotlib inline"
   ]
  },
  {
   "cell_type": "markdown",
   "metadata": {},
   "source": [
    "#### Exercise 7.02: Load and Examine Data"
   ]
  },
  {
   "cell_type": "code",
   "execution_count": 5,
   "metadata": {},
   "outputs": [],
   "source": [
    "# define path and load data\n",
    "\n",
    "path = \"News_Final.csv\"\n",
    "df = pandas.read_csv(path, header=0)"
   ]
  },
  {
   "cell_type": "code",
   "execution_count": 6,
   "metadata": {},
   "outputs": [],
   "source": [
    "# define quick look function for data frame\n",
    "\n",
    "def dataframe_quick_look(df, nrows):\n",
    "    print(\"SHAPE:\\n{shape}\\n\".format(shape=df.shape))\n",
    "    print(\"COLUMN NAMES:\\n{names}\\n\".format(names=df.columns))\n",
    "    print(\"HEAD:\\n{head}\\n\".format(head=df.head(nrows)))"
   ]
  },
  {
   "cell_type": "code",
   "execution_count": 7,
   "metadata": {},
   "outputs": [
    {
     "name": "stdout",
     "output_type": "stream",
     "text": [
      "SHAPE:\n",
      "(93239, 11)\n",
      "\n",
      "COLUMN NAMES:\n",
      "Index(['IDLink', 'Title', 'Headline', 'Source', 'Topic', 'PublishDate',\n",
      "       'SentimentTitle', 'SentimentHeadline', 'Facebook', 'GooglePlus',\n",
      "       'LinkedIn'],\n",
      "      dtype='object')\n",
      "\n",
      "HEAD:\n",
      "    IDLink                                             Title  \\\n",
      "0  99248.0  Obama Lays Wreath at Arlington National Cemetery   \n",
      "1  10423.0       A Look at the Health of the Chinese Economy   \n",
      "\n",
      "                                            Headline     Source    Topic  \\\n",
      "0  Obama Lays Wreath at Arlington National Cemete...  USA TODAY    obama   \n",
      "1  Tim Haywood, investment director business-unit...  Bloomberg  economy   \n",
      "\n",
      "           PublishDate  SentimentTitle  SentimentHeadline  Facebook  \\\n",
      "0  2002-04-02 00:00:00        0.000000          -0.053300        -1   \n",
      "1  2008-09-20 00:00:00        0.208333          -0.156386        -1   \n",
      "\n",
      "   GooglePlus  LinkedIn  \n",
      "0          -1        -1  \n",
      "1          -1        -1  \n",
      "\n"
     ]
    }
   ],
   "source": [
    "dataframe_quick_look(df, nrows=2)"
   ]
  },
  {
   "cell_type": "code",
   "execution_count": 8,
   "metadata": {},
   "outputs": [
    {
     "name": "stdout",
     "output_type": "stream",
     "text": [
      "TOPICS:\n",
      "economy      33928\n",
      "obama        28610\n",
      "microsoft    21858\n",
      "palestine     8843\n",
      "Name: Topic, dtype: int64\n",
      "\n"
     ]
    }
   ],
   "source": [
    "# data set came with prespecified topics\n",
    "# print the topics out with counts\n",
    "\n",
    "print(\"TOPICS:\\n{topics}\\n\".format(topics=df[\"Topic\"].value_counts()))"
   ]
  },
  {
   "cell_type": "code",
   "execution_count": 9,
   "metadata": {},
   "outputs": [
    {
     "name": "stdout",
     "output_type": "stream",
     "text": [
      "HEADLINES:\n",
      "['Obama Lays Wreath at Arlington National Cemetery. President Barack Obama has laid a wreath at the Tomb of the Unknowns to honor', 'Tim Haywood, investment director business-unit head for fixed income at Gam, discusses the China beige book and the state of the economy.', \"Nouriel Roubini, NYU professor and chairman at Roubini Global Economics, explains why the global economy isn't facing the same conditions\", \"Finland's economy expanded marginally in the three months ended December, after contracting in the previous quarter, preliminary figures from Statistics Finland showed Monday. \", 'Tourism and public spending continued to boost the economy in January, in light of contraction in private consumption and exports, according to the Bank of Thailand data. ']\n",
      "\n",
      "LENGTH:\n",
      "93239\n",
      "\n"
     ]
    }
   ],
   "source": [
    "# lets look at the final data we are going to move forward with\n",
    "\n",
    "raw = df[\"Headline\"].tolist()\n",
    "print(\"HEADLINES:\\n{lines}\\n\".format(lines=raw[:5]))\n",
    "print(\"LENGTH:\\n{length}\\n\".format(length=len(raw)))"
   ]
  },
  {
   "cell_type": "markdown",
   "metadata": {},
   "source": [
    "#### Exercise 7.03: Step-by-step Data Cleaning"
   ]
  },
  {
   "cell_type": "code",
   "execution_count": 23,
   "metadata": {},
   "outputs": [
    {
     "name": "stdout",
     "output_type": "stream",
     "text": [
      "Over 100 attendees expected to see latest version of Microsoft Dynamics SL and Dynamics GP (PRWeb February 29, 2016) Read the full story at http://www.prweb.com/releases/2016/03/prweb13238571.htm \n"
     ]
    }
   ],
   "source": [
    "# select one headline to use as an example\n",
    "\n",
    "example = raw[5]\n",
    "print(example)"
   ]
  },
  {
   "cell_type": "code",
   "execution_count": 24,
   "metadata": {},
   "outputs": [],
   "source": [
    "# check language of headline\n",
    "# filter to english only\n",
    "\n",
    "def do_language_identifying(txt):\n",
    "    try: the_language = langdetect.detect(txt)\n",
    "    except: the_language = 'none'\n",
    "    return the_language"
   ]
  },
  {
   "cell_type": "code",
   "execution_count": 25,
   "metadata": {},
   "outputs": [
    {
     "name": "stdout",
     "output_type": "stream",
     "text": [
      "DETECTED LANGUAGE:\n",
      "en\n",
      "\n"
     ]
    }
   ],
   "source": [
    "print(\"DETECTED LANGUAGE:\\n{lang}\\n\".format(lang=do_language_identifying(example)))"
   ]
  },
  {
   "cell_type": "code",
   "execution_count": 26,
   "metadata": {},
   "outputs": [
    {
     "name": "stdout",
     "output_type": "stream",
     "text": [
      "['Over', '100', 'attendees', 'expected', 'to', 'see', 'latest', 'version', 'of', 'Microsoft', 'Dynamics', 'SL', 'and', 'Dynamics', 'GP', '(PRWeb', 'February', '29,', '2016)', 'Read', 'the', 'full', 'story', 'at', 'http://www.prweb.com/releases/2016/03/prweb13238571.htm', '']\n"
     ]
    }
   ],
   "source": [
    "# tokenize the data\n",
    "\n",
    "example = example.split(\" \")\n",
    "print(example)"
   ]
  },
  {
   "cell_type": "code",
   "execution_count": 27,
   "metadata": {},
   "outputs": [
    {
     "name": "stdout",
     "output_type": "stream",
     "text": [
      "['Over', '100', 'attendees', 'expected', 'to', 'see', 'latest', 'version', 'of', 'Microsoft', 'Dynamics', 'SL', 'and', 'Dynamics', 'GP', '(PRWeb', 'February', '29,', '2016)', 'Read', 'the', 'full', 'story', 'at', 'URL', '']\n"
     ]
    }
   ],
   "source": [
    "# find and replace website addresses\n",
    "\n",
    "example = [\n",
    "    'URL' if bool(regex.search(\"http[s]?://\", i)) \n",
    "    else i for i in example\n",
    "]\n",
    "print(example)"
   ]
  },
  {
   "cell_type": "code",
   "execution_count": 28,
   "metadata": {},
   "outputs": [
    {
     "name": "stdout",
     "output_type": "stream",
     "text": [
      "['Over', '100', 'attendees', 'expected', 'to', 'see', 'latest', 'version', 'of', 'Microsoft', 'Dynamics', 'SL', 'and', 'Dynamics', 'GP', 'PRWeb', 'February', '29', '2016', 'Read', 'the', 'full', 'story', 'at', 'URL', '']\n"
     ]
    }
   ],
   "source": [
    "# remove punctuation\n",
    "\n",
    "example = [regex.sub(\"[^\\\\w\\\\s]|\\n\", \"\", i) for i in example]\n",
    "print(example)"
   ]
  },
  {
   "cell_type": "code",
   "execution_count": 29,
   "metadata": {},
   "outputs": [
    {
     "name": "stdout",
     "output_type": "stream",
     "text": [
      "['Over', '', 'attendees', 'expected', 'to', 'see', 'latest', 'version', 'of', 'Microsoft', 'Dynamics', 'SL', 'and', 'Dynamics', 'GP', 'PRWeb', 'February', '', '', 'Read', 'the', 'full', 'story', 'at', 'URL', '']\n"
     ]
    }
   ],
   "source": [
    "# remove numbers\n",
    "\n",
    "example = [regex.sub(\"^[0-9]*$\", \"\", i) for i in example]\n",
    "print(example)"
   ]
  },
  {
   "cell_type": "code",
   "execution_count": 30,
   "metadata": {},
   "outputs": [
    {
     "name": "stdout",
     "output_type": "stream",
     "text": [
      "['over', '', 'attendees', 'expected', 'to', 'see', 'latest', 'version', 'of', 'microsoft', 'dynamics', 'sl', 'and', 'dynamics', 'gp', 'prweb', 'february', '', '', 'read', 'the', 'full', 'story', 'at', 'URL', '']\n"
     ]
    }
   ],
   "source": [
    "# make everything lowercase\n",
    "\n",
    "example = [i.lower() if i not in [\"URL\"] else i for i in example]\n",
    "print(example)"
   ]
  },
  {
   "cell_type": "code",
   "execution_count": 32,
   "metadata": {},
   "outputs": [
    {
     "name": "stdout",
     "output_type": "stream",
     "text": [
      "['over', 'attendees', 'expected', 'to', 'see', 'latest', 'version', 'of', 'microsoft', 'dynamics', 'sl', 'and', 'dynamics', 'gp', 'prweb', 'february', 'read', 'the', 'full', 'story', 'at']\n"
     ]
    }
   ],
   "source": [
    "# remove the url placeholder\n",
    "\n",
    "example = [i for i in example if i not in [\"URL\",\"\"]]\n",
    "print(example)"
   ]
  },
  {
   "cell_type": "code",
   "execution_count": 33,
   "metadata": {},
   "outputs": [
    {
     "name": "stdout",
     "output_type": "stream",
     "text": [
      "['i', 'me', 'my', 'myself', 'we', 'our', 'ours', 'ourselves', 'you', 'youre', 'youve', 'youll', 'youd', 'your', 'yours', 'yourself', 'yourselves', 'he', 'him', 'his', 'himself', 'she', 'shes', 'her', 'hers', 'herself', 'it', 'its', 'its', 'itself', 'they', 'them', 'their', 'theirs', 'themselves', 'what', 'which', 'who', 'whom', 'this', 'that', 'thatll', 'these', 'those', 'am', 'is', 'are', 'was', 'were', 'be', 'been', 'being', 'have', 'has', 'had', 'having', 'do', 'does', 'did', 'doing', 'a', 'an', 'the', 'and', 'but', 'if', 'or', 'because', 'as', 'until', 'while', 'of', 'at', 'by', 'for', 'with', 'about', 'against', 'between', 'into', 'through', 'during', 'before', 'after', 'above', 'below', 'to', 'from', 'up', 'down', 'in', 'out', 'on', 'off', 'over', 'under', 'again', 'further', 'then', 'once', 'here', 'there', 'when', 'where', 'why', 'how', 'all', 'any', 'both', 'each', 'few', 'more', 'most', 'other', 'some', 'such', 'no', 'nor', 'not', 'only', 'own', 'same', 'so', 'than', 'too', 'very', 's', 't', 'can', 'will', 'just', 'don', 'dont', 'should', 'shouldve', 'now', 'd', 'll', 'm', 'o', 're', 've', 'y', 'ain', 'aren', 'arent', 'couldn', 'couldnt', 'didn', 'didnt', 'doesn', 'doesnt', 'hadn', 'hadnt', 'hasn', 'hasnt', 'haven', 'havent', 'isn', 'isnt', 'ma', 'mightn', 'mightnt', 'mustn', 'mustnt', 'needn', 'neednt', 'shan', 'shant', 'shouldn', 'shouldnt', 'wasn', 'wasnt', 'weren', 'werent', 'won', 'wont', 'wouldn', 'wouldnt']\n"
     ]
    }
   ],
   "source": [
    "# remove stopwords\n",
    "# uses stopwords dictionary previously loaded\n",
    "\n",
    "list_stop_words = nltk.corpus.stopwords.words(\"English\")\n",
    "list_stop_words = [regex.sub(\"[^\\\\w\\\\s]\", \"\", i) for i in list_stop_words]\n",
    "print(list_stop_words)"
   ]
  },
  {
   "cell_type": "code",
   "execution_count": 34,
   "metadata": {},
   "outputs": [
    {
     "name": "stdout",
     "output_type": "stream",
     "text": [
      "['attendees', 'expected', 'see', 'latest', 'version', 'microsoft', 'dynamics', 'sl', 'dynamics', 'gp', 'prweb', 'february', 'read', 'full', 'story']\n"
     ]
    }
   ],
   "source": [
    "example = [i for i in example if i not in list_stop_words]\n",
    "print(example)"
   ]
  },
  {
   "cell_type": "code",
   "execution_count": 35,
   "metadata": {},
   "outputs": [],
   "source": [
    "# perform lemmatization\n",
    "# uses wordnet dictionary previously loaded\n",
    "\n",
    "def do_lemmatizing(wrd):\n",
    "    out = nltk.corpus.wordnet.morphy(wrd)\n",
    "    return (wrd if out is None else out)"
   ]
  },
  {
   "cell_type": "code",
   "execution_count": 36,
   "metadata": {},
   "outputs": [
    {
     "name": "stdout",
     "output_type": "stream",
     "text": [
      "['attendee', 'expect', 'see', 'latest', 'version', 'microsoft', 'dynamics', 'sl', 'dynamics', 'gp', 'prweb', 'february', 'read', 'full', 'story']\n"
     ]
    }
   ],
   "source": [
    "example = [do_lemmatizing(i) for i in example]\n",
    "print(example)"
   ]
  },
  {
   "cell_type": "code",
   "execution_count": 37,
   "metadata": {},
   "outputs": [
    {
     "name": "stdout",
     "output_type": "stream",
     "text": [
      "['attendee', 'expect', 'latest', 'version', 'microsoft', 'dynamics', 'dynamics', 'prweb', 'february', 'story']\n"
     ]
    }
   ],
   "source": [
    "# remove words less than 5 characters long\n",
    "\n",
    "example = [i for i in example if len(i) >= 5]\n",
    "print(example)"
   ]
  },
  {
   "cell_type": "markdown",
   "metadata": {},
   "source": [
    "#### Exercise 7.04: Complete Data Cleaning"
   ]
  },
  {
   "cell_type": "code",
   "execution_count": 40,
   "metadata": {},
   "outputs": [],
   "source": [
    "# define consolidated data cleaning function\n",
    "\n",
    "def do_headline_cleaning(txt):\n",
    "    # identify language of tweet\n",
    "    # return null if language not english\n",
    "    lg = do_language_identifying(txt)\n",
    "    if lg != 'en':\n",
    "        return None\n",
    "    \n",
    "    # split the string on whitespace\n",
    "    out = txt.split(\" \")\n",
    "    \n",
    "    # identify urls\n",
    "    # replace with URL\n",
    "    out = ['URL' if bool(regex.search(\"http[s]?://\", i)) else i for i in out]\n",
    "    \n",
    "    # remove all punctuation\n",
    "    out = [regex.sub(\"[^\\\\w\\\\s]|\\n\", \"\", i) for i in out]\n",
    "    \n",
    "    # remove all numerics\n",
    "    out = [regex.sub(\"^[0-9]*$\", \"\", i) for i in out]\n",
    "    \n",
    "    # make all non-keywords lowercase\n",
    "    out = [i.lower() if i not in [\"URL\"] else i for i in out]\n",
    "    \n",
    "    # remove URL\n",
    "    out = [i for i in out if i not in [\"URL\",\"\"]]\n",
    "    \n",
    "    # remove stopwords\n",
    "    list_stop_words = nltk.corpus.stopwords.words(\"english\")\n",
    "    list_stop_words = [regex.sub(\"[^\\\\w\\\\s]\", \"\", i) for i in list_stop_words]\n",
    "    \n",
    "    out = [i for i in out if i not in list_stop_words]\n",
    "    \n",
    "    # lemmatizing\n",
    "    out = [do_lemmatizing(i) for i in out]\n",
    "    \n",
    "    # keep words 5 or more characters long\n",
    "    out = [i for i in out if len(i) >= 5]\n",
    "    \n",
    "    return out\n",
    "\n",
    "from time import time"
   ]
  },
  {
   "cell_type": "code",
   "execution_count": 41,
   "metadata": {},
   "outputs": [
    {
     "name": "stdout",
     "output_type": "stream",
     "text": [
      "1455.7504239082336\n"
     ]
    }
   ],
   "source": [
    "# execute function\n",
    "# takes several minutes\n",
    "tick = time()\n",
    "clean = list(map(do_headline_cleaning, raw))\n",
    "print(time()-tick)"
   ]
  },
  {
   "cell_type": "code",
   "execution_count": 42,
   "metadata": {},
   "outputs": [
    {
     "name": "stdout",
     "output_type": "stream",
     "text": [
      "HEADLINES:\n",
      "[['obama', 'wreath', 'arlington', 'national', 'cemetery', 'president', 'barack', 'obama', 'wreath', 'unknown', 'honor'], ['haywood', 'investment', 'director', 'businessunit', 'income', 'discus', 'china', 'beige', 'state', 'economy'], ['nouriel', 'roubini', 'professor', 'chairman', 'roubini', 'global', 'economics', 'explain', 'global', 'economy', 'facing', 'conditions'], ['finland', 'economy', 'expand', 'marginally', 'three', 'month', 'december', 'contracting', 'previous', 'quarter', 'preliminary', 'figure', 'statistics', 'finland', 'monday'], ['tourism', 'public', 'spending', 'continue', 'boost', 'economy', 'january', 'light', 'contraction', 'private', 'consumption', 'export', 'accord', 'thailand']]\n",
      "\n",
      "LENGTH:\n",
      "92952\n",
      "\n"
     ]
    }
   ],
   "source": [
    "# remove none types\n",
    "\n",
    "clean = list(filter(None.__ne__, clean))\n",
    "print(\"HEADLINES:\\n{lines}\\n\".format(lines=clean[:5]))\n",
    "print(\"LENGTH:\\n{length}\\n\".format(length=len(clean)))"
   ]
  },
  {
   "cell_type": "code",
   "execution_count": 43,
   "metadata": {},
   "outputs": [],
   "source": [
    "# turn tokens back into string\n",
    "# concatenate with white spaces\n",
    "\n",
    "clean_sentences = [\" \".join(i) for i in clean]"
   ]
  },
  {
   "cell_type": "code",
   "execution_count": 44,
   "metadata": {},
   "outputs": [
    {
     "name": "stdout",
     "output_type": "stream",
     "text": [
      "['obama wreath arlington national cemetery president barack obama wreath unknown honor', 'haywood investment director businessunit income discus china beige state economy', 'nouriel roubini professor chairman roubini global economics explain global economy facing conditions', 'finland economy expand marginally three month december contracting previous quarter preliminary figure statistics finland monday', 'tourism public spending continue boost economy january light contraction private consumption export accord thailand', 'attendee expect latest version microsoft dynamics dynamics prweb february story', 'ramallah february palestine liberation organization sectretarygeneral erekat thursday express concern kenyan president uhuru kenyattas visit jerusalem jordan valley', 'first michelle obama speak state white house washington wednesday interactive student workshop musical legacy charles student school community organization across country participate quotin performance white housequot series', 'hancock county early monday morning family years', 'delhi feb29 technology giant microsoft target rival apple series focusing windows gross windows machine']\n"
     ]
    }
   ],
   "source": [
    "print(clean_sentences[0:10])"
   ]
  },
  {
   "cell_type": "markdown",
   "metadata": {},
   "source": [
    "#### Exercise 7.05: Count Vectorizer"
   ]
  },
  {
   "cell_type": "code",
   "execution_count": 45,
   "metadata": {},
   "outputs": [],
   "source": [
    "# define some global variables\n",
    "\n",
    "number_words = 10\n",
    "number_docs = 10\n",
    "number_features = 1000"
   ]
  },
  {
   "cell_type": "code",
   "execution_count": 46,
   "metadata": {},
   "outputs": [
    {
     "name": "stdout",
     "output_type": "stream",
     "text": [
      "  (0, 573)\t2\n",
      "  (0, 558)\t1\n",
      "  (0, 645)\t1\n",
      "  (0, 88)\t1\n",
      "  (0, 408)\t1\n"
     ]
    }
   ],
   "source": [
    "# execute bag of words model\n",
    "# use raw term counts for lda \n",
    "# as it is a probabilistic graphical model\n",
    "\n",
    "vectorizer1 = sklearn.feature_extraction.text.CountVectorizer(\n",
    "    analyzer=\"word\",\n",
    "    max_df=0.5, \n",
    "    min_df=20, \n",
    "    max_features=number_features\n",
    ")\n",
    "clean_vec1 = vectorizer1.fit_transform(clean_sentences)\n",
    "print(clean_vec1[0])\n",
    "\n",
    "feature_names_vec1 = vectorizer1.get_feature_names()"
   ]
  },
  {
   "cell_type": "markdown",
   "metadata": {},
   "source": [
    "#### Exercise 7.06: Select Number of Topics"
   ]
  },
  {
   "cell_type": "code",
   "execution_count": 47,
   "metadata": {},
   "outputs": [],
   "source": [
    "# define function to calculate perplexity for LDA model trained on ntopics\n",
    "\n",
    "def perplexity_by_ntopic(data, ntopics):\n",
    "    output_dict = {\n",
    "        \"Number Of Topics\": [], \n",
    "        \"Perplexity Score\": []\n",
    "    }\n",
    "    \n",
    "    for t in ntopics:\n",
    "        lda = sklearn.decomposition.LatentDirichletAllocation(\n",
    "            n_components=t,\n",
    "            learning_method=\"online\",\n",
    "            random_state=0\n",
    "        )\n",
    "        lda.fit(data)\n",
    "        \n",
    "        output_dict[\"Number Of Topics\"].append(t)\n",
    "        output_dict[\"Perplexity Score\"].append(lda.perplexity(data))\n",
    "        \n",
    "    output_df = pandas.DataFrame(output_dict)\n",
    "    \n",
    "    index_min_perplexity = output_df[\"Perplexity Score\"].idxmin()\n",
    "    output_num_topics = output_df.loc[\n",
    "        index_min_perplexity,  # index\n",
    "        \"Number Of Topics\"  # column\n",
    "    ]\n",
    "        \n",
    "    return (output_df, output_num_topics)"
   ]
  },
  {
   "cell_type": "code",
   "execution_count": 48,
   "metadata": {},
   "outputs": [],
   "source": [
    "# find perplexity scores for several different numbers of topics\n",
    "# takes several minutes\n",
    "\n",
    "df_perplexity, optimal_num_topics = perplexity_by_ntopic(\n",
    "    clean_vec1, \n",
    "    ntopics=[1, 2, 3, 4, 6, 8, 10]\n",
    ")"
   ]
  },
  {
   "cell_type": "code",
   "execution_count": 49,
   "metadata": {},
   "outputs": [
    {
     "name": "stdout",
     "output_type": "stream",
     "text": [
      "   Number Of Topics  Perplexity Score\n",
      "0                 1        510.031143\n",
      "1                 2        459.302295\n",
      "2                 3        410.017364\n",
      "3                 4        435.643869\n",
      "4                 6        502.722473\n",
      "5                 8        547.285901\n",
      "6                10        574.894638\n"
     ]
    }
   ],
   "source": [
    "print(df_perplexity)"
   ]
  },
  {
   "cell_type": "code",
   "execution_count": 50,
   "metadata": {},
   "outputs": [
    {
     "data": {
      "text/plain": [
       "<matplotlib.axes._subplots.AxesSubplot at 0x1f045865788>"
      ]
     },
     "execution_count": 50,
     "metadata": {},
     "output_type": "execute_result"
    },
    {
     "data": {
      "image/png": "[encoded data removed]",
      "text/plain": [
       "<Figure size 432x288 with 1 Axes>"
      ]
     },
     "metadata": {
      "needs_background": "light"
     },
     "output_type": "display_data"
    }
   ],
   "source": [
    "df_perplexity.plot.line(\"Number Of Topics\", \"Perplexity Score\")"
   ]
  },
  {
   "cell_type": "markdown",
   "metadata": {},
   "source": [
    "#### Exercise 7.07: Latent Dirichlet Allocation"
   ]
  },
  {
   "cell_type": "code",
   "execution_count": 51,
   "metadata": {},
   "outputs": [
    {
     "data": {
      "text/plain": [
       "LatentDirichletAllocation(batch_size=128, doc_topic_prior=None,\n",
       "                          evaluate_every=-1, learning_decay=0.7,\n",
       "                          learning_method='online', learning_offset=10.0,\n",
       "                          max_doc_update_iter=100, max_iter=10,\n",
       "                          mean_change_tol=0.001, n_components=3, n_jobs=None,\n",
       "                          perp_tol=0.1, random_state=0, topic_word_prior=None,\n",
       "                          total_samples=1000000.0, verbose=0)"
      ]
     },
     "execution_count": 51,
     "metadata": {},
     "output_type": "execute_result"
    }
   ],
   "source": [
    "# define and fit LDA model\n",
    "\n",
    "lda = sklearn.decomposition.LatentDirichletAllocation(\n",
    "    n_components=optimal_num_topics,\n",
    "    learning_method=\"online\",\n",
    "    random_state=0\n",
    ")\n",
    "lda.fit(clean_vec1)"
   ]
  },
  {
   "cell_type": "code",
   "execution_count": 52,
   "metadata": {},
   "outputs": [
    {
     "name": "stdout",
     "output_type": "stream",
     "text": [
      "(92952, 3)\n",
      "[[0.04761957 0.90420135 0.04817908]\n",
      " [0.04166778 0.04551762 0.9128146 ]\n",
      " [0.1662618  0.04701111 0.78672709]\n",
      " ...\n",
      " [0.03991748 0.51411976 0.44596277]\n",
      " [0.06911993 0.86112562 0.06975445]\n",
      " [0.45906304 0.21850616 0.32243081]]\n"
     ]
    }
   ],
   "source": [
    "# output matrix\n",
    "# h: docs to topics\n",
    "\n",
    "lda_transform = lda.transform(clean_vec1)\n",
    "print(lda_transform.shape)\n",
    "print(lda_transform)"
   ]
  },
  {
   "cell_type": "code",
   "execution_count": 39,
   "metadata": {},
   "outputs": [
    {
     "name": "stdout",
     "output_type": "stream",
     "text": [
      "(3, 1000)\n",
      "[[3.35561543e-01 1.98875091e+02 9.76008950e+00 ... 3.35387250e-01\n",
      "  2.04212628e+02 4.03035379e-01]\n",
      " [2.74807336e+02 3.94554962e-01 3.63358786e-01 ... 3.45962321e-01\n",
      "  1.77534802e+02 4.61646841e+02]\n",
      " [3.37035535e-01 7.36563015e+01 2.05749411e+02 ... 2.31706331e+02\n",
      "  1.21678149e+02 7.28022515e-01]]\n"
     ]
    }
   ],
   "source": [
    "# output matrix\n",
    "# w: words to topics\n",
    "\n",
    "lda_components = lda.components_\n",
    "print(lda_components.shape)\n",
    "print(lda_components)"
   ]
  },
  {
   "cell_type": "code",
   "execution_count": 40,
   "metadata": {},
   "outputs": [],
   "source": [
    "# define function to reformat output matrices into easily readable tables\n",
    "\n",
    "def get_topics(mod, vec, names, docs, ndocs, nwords):\n",
    "    # word to topic matrix\n",
    "    W = mod.components_\n",
    "    W_norm = W / W.sum(axis=1)[:, numpy.newaxis]\n",
    "    # topic to document matrix\n",
    "    H = mod.transform(vec)\n",
    "    \n",
    "    W_dict = {}\n",
    "    H_dict = {}\n",
    "    \n",
    "    for tpc_idx, tpc_val in enumerate(W_norm):\n",
    "        topic = \"Topic{}\".format(tpc_idx)\n",
    "        \n",
    "        # formatting w\n",
    "        W_indices = tpc_val.argsort()[::-1][:nwords]\n",
    "        W_names_values = [\n",
    "            (round(tpc_val[j], 4), names[j]) \n",
    "            for j in W_indices\n",
    "        ]\n",
    "        W_dict[topic] = W_names_values\n",
    "        \n",
    "        # formatting h\n",
    "        H_indices = H[:, tpc_idx].argsort()[::-1][:ndocs]\n",
    "        H_names_values = [\n",
    "            (round(H[:, tpc_idx][j], 4), docs[j]) \n",
    "            for j in H_indices\n",
    "        ]\n",
    "        H_dict[topic] = H_names_values\n",
    "        \n",
    "    W_df = pandas.DataFrame(\n",
    "        W_dict, \n",
    "        index=[\"Word\" + str(i) for i in range(nwords)]\n",
    "    )\n",
    "    H_df = pandas.DataFrame(\n",
    "        H_dict,\n",
    "        index=[\"Doc\" + str(i) for i in range(ndocs)]\n",
    "    )\n",
    "        \n",
    "    return (W_df, H_df)"
   ]
  },
  {
   "cell_type": "code",
   "execution_count": 41,
   "metadata": {},
   "outputs": [],
   "source": [
    "# run function\n",
    "\n",
    "W_df, H_df = get_topics(\n",
    "    mod=lda,\n",
    "    vec=clean_vec1,\n",
    "    names=feature_names_vec1,\n",
    "    docs=raw,\n",
    "    ndocs=number_docs, \n",
    "    nwords=number_words\n",
    ")"
   ]
  },
  {
   "cell_type": "code",
   "execution_count": 42,
   "metadata": {},
   "outputs": [
    {
     "name": "stdout",
     "output_type": "stream",
     "text": [
      "                    Topic0                 Topic1                Topic2\n",
      "Word0  (0.1051, microsoft)        (0.0878, obama)     (0.0987, economy)\n",
      "Word1    (0.0241, windows)    (0.0761, president)    (0.0339, economic)\n",
      "Word2    (0.0235, company)       (0.0437, barack)      (0.0172, growth)\n",
      "Word3  (0.019, microsofts)    (0.0159, palestine)      (0.0146, global)\n",
      "Word4   (0.0161, announce)        (0.0143, state)  (0.0124, government)\n",
      "Word5      (0.0144, today)       (0.0137, obamas)       (0.0113, china)\n",
      "Word6    (0.0108, release)   (0.0131, washington)        (0.011, world)\n",
      "Word7      (0.009, update)  (0.0124, palestinian)     (0.0106, percent)\n",
      "Word8   (0.0088, business)        (0.0113, house)     (0.0097, country)\n",
      "Word9    (0.0076, surface)        (0.0104, white)      (0.0095, market)\n"
     ]
    }
   ],
   "source": [
    "# word-topic table\n",
    "\n",
    "print(W_df)"
   ]
  },
  {
   "cell_type": "code",
   "execution_count": 43,
   "metadata": {},
   "outputs": [
    {
     "name": "stdout",
     "output_type": "stream",
     "text": [
      "                                                 Topic0  \\\n",
      "Doc0  (0.9776, WASHINGTON (AP) — President Barack Ob...   \n",
      "Doc1  (0.9764, &quot;We have put the utmost priority...   \n",
      "Doc2  (0.9757, France's fragile economy has cooled i...   \n",
      "Doc3  (0.9755, France's Palestine peace plan is part...   \n",
      "Doc4  (0.9754, Software maker Microsoft Corp is sell...   \n",
      "Doc5  (0.9754, NEW DELHI\"\"\"Brisk consumer spending p...   \n",
      "Doc6  (0.9752, Patent trolls drain $1.5 billion a we...   \n",
      "Doc7  (0.975, Rancho Mirage, California (CNN) Presid...   \n",
      "Doc8  (0.9749, YOU may already be reading this on Ch...   \n",
      "Doc9  (0.9749, The Estonian economy was also positiv...   \n",
      "\n",
      "                                                 Topic1  \\\n",
      "Doc0  (0.9798, In Hebron district, Israeli troops br...   \n",
      "Doc1  (0.9779, XBOX ONE Backward Compatibility has F...   \n",
      "Doc2  (0.9779, Microsoft on Thursday posted revenue ...   \n",
      "Doc3  (0.9779, Farmers in the largely agrarian econo...   \n",
      "Doc4  (0.9779, The IMF said Germany's economic growt...   \n",
      "Doc5  (0.9779, China reported a modest stabilization...   \n",
      "Doc6  (0.9775, In a remarkable strategic shift, Micr...   \n",
      "Doc7  (0.9775, Political pressure: President Joko \"\"...   \n",
      "Doc8  (0.9773, Malia Obama is 17 and probably wants ...   \n",
      "Doc9  (0.9773, Member nations of the Organization of...   \n",
      "\n",
      "                                                 Topic2  \n",
      "Doc0  (0.9782, The German government is pencilling i...  \n",
      "Doc1  (0.9782, Oral arguments this week in United St...  \n",
      "Doc2  (0.978, For the past 22 years, since signing t...  \n",
      "Doc3  (0.9779, Donald Trump appeared on Fox News thi...  \n",
      "Doc4  (0.9779, Before E3 starts properly on Tuesday,...  \n",
      "Doc5  (0.9779, Trump also went after President Obama...  \n",
      "Doc6  (0.9778, WASHINGTON (AP) \"\"\" President Barack ...  \n",
      "Doc7  (0.9777,  Internet &middot; Microsoft &middot;...  \n",
      "Doc8  (0.9772, Manifold Technology has realised the ...  \n",
      "Doc9  (0.9772, Emirates, the world's biggest interna...  \n"
     ]
    }
   ],
   "source": [
    "# document-topic table\n",
    "\n",
    "print(H_df)"
   ]
  },
  {
   "cell_type": "markdown",
   "metadata": {},
   "source": [
    "#### Exercise 7.08: Visualizing LDA"
   ]
  },
  {
   "cell_type": "code",
   "execution_count": 44,
   "metadata": {},
   "outputs": [
    {
     "data": {
      "text/html": [
       "\n",
       "<link rel=\"stylesheet\" type=\"text/css\" href=\"https://cdn.rawgit.com/bmabey/pyLDAvis/files/ldavis.v1.0.0.css\">\n",
       "\n",
       "\n",
       "<div id=\"ldavis_el131642462558138056772050241\"></div>\n",
       "<script type=\"text/javascript\">\n",
       "\n",
       "var ldavis_el131642462558138056772050241_data = {\"mdsDat\": {\"x\": [-0.2729851018730121, 0.04060300010335847, 0.23238210176965363], \"y\": [0.10715000818095803, -0.28235662558751107, 0.17520661740655305], \"topics\": [1, 2, 3], \"cluster\": [1, 1, 1], \"Freq\": [38.92021314415239, 34.64263480276227, 26.437152053085338]}, \"tinfo\": {\"Category\": [\"Default\", \"Default\", \"Default\", \"Default\", \"Default\", \"Default\", \"Default\", \"Default\", \"Default\", \"Default\", \"Topic1\", \"Topic1\", \"Topic1\", \"Topic1\", \"Topic1\", \"Topic1\", \"Topic1\", \"Topic1\", \"Topic1\", \"Topic1\", \"Topic1\", \"Topic2\", \"Topic2\", \"Topic2\", \"Topic2\", \"Topic2\", \"Topic2\", \"Topic2\", \"Topic2\", \"Topic2\", \"Topic2\", \"Topic2\", \"Topic2\", \"Topic2\", \"Topic2\", \"Topic3\", \"Topic3\", \"Topic3\", \"Topic3\", \"Topic3\", \"Topic3\", \"Topic3\", \"Topic3\", \"Topic3\", \"Topic3\", \"Topic3\", \"Topic3\", \"Topic3\", \"Topic3\"], \"Freq\": [21453.0, 26401.0, 26383.0, 22870.0, 13149.0, 9076.0, 4913.0, 4799.0, 3883.0, 4599.0, 26382.736971466216, 22870.142682113536, 13148.886700858766, 4772.841220111227, 4114.02515584856, 3734.0141755175605, 3924.606808408928, 3390.773507299345, 3125.908363513472, 3052.0141203938424, 4283.988321242226, 26400.78486974263, 9075.824808322684, 4598.792993246682, 3895.033895564272, 3033.0733810100096, 2847.817324007832, 2470.3376686179454, 2154.435567697514, 1957.937797076907, 1526.4089760281545, 3315.015576130495, 2543.1583889965605, 2931.752594584383, 2586.1594506071847, 21453.24303671351, 4913.13407093392, 4798.9073102927305, 3882.5061004940767, 1842.1084100458252, 1560.4724390322529, 1516.5170885228752, 1494.3239478679336, 1478.8441189390164, 1442.894017628378, 2934.3080678210895, 3291.630621101708, 2195.3582604420185, 1797.1624752312364], \"Term\": [\"microsoft\", \"economy\", \"obama\", \"president\", \"barack\", \"economic\", \"windows\", \"company\", \"microsofts\", \"growth\", \"obama\", \"president\", \"barack\", \"palestine\", \"obamas\", \"palestinian\", \"washington\", \"house\", \"white\", \"administration\", \"state\", \"economy\", \"economic\", \"growth\", \"global\", \"china\", \"percent\", \"quarter\", \"expect\", \"european\", \"britain\", \"government\", \"market\", \"world\", \"country\", \"microsoft\", \"windows\", \"company\", \"microsofts\", \"update\", \"surface\", \"software\", \"cloud\", \"technology\", \"build\", \"today\", \"announce\", \"release\", \"business\"], \"Total\": [21453.0, 26401.0, 26383.0, 22870.0, 13149.0, 9076.0, 4913.0, 4799.0, 3883.0, 4599.0, 26383.42952724216, 22870.840382718477, 13149.57514585984, 4773.550944571056, 4114.719768620434, 3734.7116493190097, 3925.367564591879, 3391.4666115250725, 3126.602358961935, 3052.7205933128203, 5361.891895150757, 26401.48124294902, 9076.525191962717, 4599.476719903824, 3895.7638548407767, 3033.7709508288767, 2848.5050170488, 2471.02085728176, 2155.2304204081524, 1958.6680299529091, 1527.1311624350355, 3321.2885450110507, 2998.9367344994125, 4247.95250211229, 3477.199215729212, 21453.913539484838, 4913.798455983334, 4799.610221117108, 3883.1748300113827, 1842.7879414269373, 1561.1392772605075, 1517.1879964563086, 1494.9987130056218, 1479.5315447686771, 1443.5930717169024, 2936.3354363076073, 3791.6112556172357, 2673.266032493114, 3282.415901168946], \"loglift\": [10.0, 9.0, 8.0, 7.0, 6.0, 5.0, 4.0, 3.0, 2.0, 1.0, 0.9436, 0.9436, 0.9436, 0.9435, 0.9435, 0.9435, 0.9435, 0.9435, 0.9434, 0.9434, 0.7192, 1.0601, 1.06, 1.0599, 1.0599, 1.0599, 1.0598, 1.0598, 1.0597, 1.0597, 1.0596, 1.0582, 0.8952, 0.6892, 0.764, 1.3304, 1.3303, 1.3303, 1.3302, 1.33, 1.33, 1.33, 1.3299, 1.3299, 1.3299, 1.3297, 1.189, 1.1334, 0.728], \"logprob\": [10.0, 9.0, 8.0, 7.0, 6.0, 5.0, 4.0, 3.0, 2.0, 1.0, -2.4329, -2.5758, -3.1293, -4.1427, -4.2913, -4.3882, -4.3384, -4.4846, -4.5659, -4.5899, -4.2508, -2.3158, -3.3836, -4.0634, -4.2295, -4.4797, -4.5427, -4.6849, -4.8217, -4.9173, -5.1663, -4.3908, -4.6558, -4.5136, -4.6391, -2.253, -3.727, -3.7505, -3.9624, -4.708, -4.8739, -4.9025, -4.9172, -4.9277, -4.9523, -4.2424, -4.1275, -4.5326, -4.7327]}, \"token.table\": {\"Topic\": [1, 1, 3, 1, 2, 3, 2, 3, 2, 3, 3, 1, 2, 2, 2, 2, 2, 2, 1, 2, 3, 2, 1, 2, 3, 3, 3, 1, 1, 1, 1, 2, 1, 2, 2, 3, 3, 1, 2, 3, 3, 1, 3, 3, 1, 1, 3, 1, 2, 3], \"Freq\": [0.9997639504531143, 0.1318700590044021, 0.8682324684849835, 0.9999562612591312, 0.9992592892720282, 0.9995891697400591, 0.45241067698677556, 0.5474626172021789, 0.9997458770482768, 0.9993319639696452, 0.9998728602763567, 0.25624071119351904, 0.7437019967973516, 0.9999421373321167, 0.99998177212314, 0.9996589366126912, 0.9994291002964224, 0.9998039268114705, 0.0018065277733886372, 0.9981065947972221, 0.00030108796223143956, 0.9998963534478257, 0.9998624160050738, 0.8479672047581497, 0.1517204397030901, 0.9999574185155936, 0.9999549775585607, 0.9999837198101287, 0.9998250746925896, 0.9998845839130129, 0.9998094499961893, 0.999822708036048, 0.9999632552759578, 0.9995868682051988, 0.1784334197203505, 0.8210929901177556, 0.999876088884998, 0.7989717218794374, 0.20104843981933557, 0.9992702270213157, 0.9996407344131617, 0.0006811210923895557, 0.9992046425354781, 0.9995724188284371, 0.9999063617391669, 0.9998073439175249, 0.9998375073803929, 0.18197001958369982, 0.6902148737637877, 0.12782628801287063], \"Term\": [\"administration\", \"announce\", \"announce\", \"barack\", \"britain\", \"build\", \"business\", \"business\", \"china\", \"cloud\", \"company\", \"country\", \"country\", \"economic\", \"economy\", \"european\", \"expect\", \"global\", \"government\", \"government\", \"government\", \"growth\", \"house\", \"market\", \"market\", \"microsoft\", \"microsofts\", \"obama\", \"obamas\", \"palestine\", \"palestinian\", \"percent\", \"president\", \"quarter\", \"release\", \"release\", \"software\", \"state\", \"state\", \"surface\", \"technology\", \"today\", \"today\", \"update\", \"washington\", \"white\", \"windows\", \"world\", \"world\", \"world\"]}, \"R\": 10, \"lambda.step\": 0.01, \"plot.opts\": {\"xlab\": \"PC1\", \"ylab\": \"PC2\"}, \"topic.order\": [2, 3, 1]};\n",
       "\n",
       "function LDAvis_load_lib(url, callback){\n",
       "  var s = document.createElement('script');\n",
       "  s.src = url;\n",
       "  s.async = true;\n",
       "  s.onreadystatechange = s.onload = callback;\n",
       "  s.onerror = function(){console.warn(\"failed to load library \" + url);};\n",
       "  document.getElementsByTagName(\"head\")[0].appendChild(s);\n",
       "}\n",
       "\n",
       "if(typeof(LDAvis) !== \"undefined\"){\n",
       "   // already loaded: just create the visualization\n",
       "   !function(LDAvis){\n",
       "       new LDAvis(\"#\" + \"ldavis_el131642462558138056772050241\", ldavis_el131642462558138056772050241_data);\n",
       "   }(LDAvis);\n",
       "}else if(typeof define === \"function\" && define.amd){\n",
       "   // require.js is available: use it to load d3/LDAvis\n",
       "   require.config({paths: {d3: \"https://cdnjs.cloudflare.com/ajax/libs/d3/3.5.5/d3.min\"}});\n",
       "   require([\"d3\"], function(d3){\n",
       "      window.d3 = d3;\n",
       "      LDAvis_load_lib(\"https://cdn.rawgit.com/bmabey/pyLDAvis/files/ldavis.v1.0.0.js\", function(){\n",
       "        new LDAvis(\"#\" + \"ldavis_el131642462558138056772050241\", ldavis_el131642462558138056772050241_data);\n",
       "      });\n",
       "    });\n",
       "}else{\n",
       "    // require.js not available: dynamically load d3 & LDAvis\n",
       "    LDAvis_load_lib(\"https://cdnjs.cloudflare.com/ajax/libs/d3/3.5.5/d3.min.js\", function(){\n",
       "         LDAvis_load_lib(\"https://cdn.rawgit.com/bmabey/pyLDAvis/files/ldavis.v1.0.0.js\", function(){\n",
       "                 new LDAvis(\"#\" + \"ldavis_el131642462558138056772050241\", ldavis_el131642462558138056772050241_data);\n",
       "            })\n",
       "         });\n",
       "}\n",
       "</script>"
      ],
      "text/plain": [
       "<IPython.core.display.HTML object>"
      ]
     },
     "execution_count": 44,
     "metadata": {},
     "output_type": "execute_result"
    }
   ],
   "source": [
    "# iterative visualization\n",
    "# featuring pca biplot and histogram\n",
    "\n",
    "lda_plot = pyLDAvis.sklearn.prepare(lda, clean_vec1, vectorizer1, R=10)\n",
    "pyLDAvis.display(lda_plot)"
   ]
  },
  {
   "cell_type": "code",
   "execution_count": 45,
   "metadata": {},
   "outputs": [],
   "source": [
    "# define functiont to fit and plot t-SNE model\n",
    "\n",
    "def plot_tsne(data, threshold):\n",
    "    # filter data according to threshold\n",
    "    index_meet_threshold = numpy.amax(data, axis=1) >= threshold\n",
    "    lda_transform_filt = data[index_meet_threshold]\n",
    "    \n",
    "    # fit tsne model\n",
    "    # x-d -> 2-d, x = number of topics\n",
    "    tsne = sklearn.manifold.TSNE(\n",
    "        n_components=2, \n",
    "        verbose=0, \n",
    "        random_state=0, \n",
    "        angle=0.5, \n",
    "        init='pca'\n",
    "    )\n",
    "    tsne_fit = tsne.fit_transform(lda_transform_filt)\n",
    "    \n",
    "    # most probable topic for each headline\n",
    "    most_prob_topic = []\n",
    "    for i in range(tsne_fit.shape[0]):\n",
    "        most_prob_topic.append(lda_transform_filt[i].argmax())\n",
    "    \n",
    "    print(\"LENGTH:\\n{}\\n\".format(len(most_prob_topic)))\n",
    "\n",
    "    unique, counts = numpy.unique(\n",
    "        numpy.array(most_prob_topic), \n",
    "        return_counts=True\n",
    "    )\n",
    "\n",
    "    print(\"COUNTS:\\n{}\\n\".format(numpy.asarray((unique, counts)).T))\n",
    "    \n",
    "    # make plot\n",
    "    color_list = ['b', 'g', 'r', 'c', 'm', 'y', 'k']\n",
    "\n",
    "    for i in list(set(most_prob_topic)):\n",
    "        indices = [idx for idx, val in enumerate(most_prob_topic) if val == i]\n",
    "        matplotlib.pyplot.scatter(\n",
    "            x=tsne_fit[indices, 0], \n",
    "            y=tsne_fit[indices, 1], \n",
    "            s=0.5, \n",
    "            c=color_list[i], \n",
    "            label='Topic' + str(i),\n",
    "            alpha=0.25\n",
    "        )\n",
    "\n",
    "    matplotlib.pyplot.xlabel('x-tsne')\n",
    "    matplotlib.pyplot.ylabel('y-tsne')\n",
    "    matplotlib.pyplot.legend(markerscale=10)"
   ]
  },
  {
   "cell_type": "code",
   "execution_count": 46,
   "metadata": {},
   "outputs": [
    {
     "name": "stdout",
     "output_type": "stream",
     "text": [
      "LENGTH:\n",
      "58053\n",
      "\n",
      "COUNTS:\n",
      "[[    0 15100]\n",
      " [    1 23912]\n",
      " [    2 19041]]\n",
      "\n"
     ]
    },
    {
     "data": {
      "image/png": "[encoded data removed]",
      "text/plain": [
       "<Figure size 432x288 with 1 Axes>"
      ]
     },
     "metadata": {
      "needs_background": "light"
     },
     "output_type": "display_data"
    }
   ],
   "source": [
    "plot_tsne(data=lda_transform, threshold=0.75)"
   ]
  },
  {
   "cell_type": "markdown",
   "metadata": {},
   "source": [
    "#### Exercise 7.09: Trying 4 Topics"
   ]
  },
  {
   "cell_type": "code",
   "execution_count": 47,
   "metadata": {},
   "outputs": [
    {
     "data": {
      "text/plain": [
       "LatentDirichletAllocation(batch_size=128, doc_topic_prior=None,\n",
       "                          evaluate_every=-1, learning_decay=0.7,\n",
       "                          learning_method='online', learning_offset=10.0,\n",
       "                          max_doc_update_iter=100, max_iter=10,\n",
       "                          mean_change_tol=0.001, n_components=4, n_jobs=None,\n",
       "                          perp_tol=0.1, random_state=0, topic_word_prior=None,\n",
       "                          total_samples=1000000.0, verbose=0)"
      ]
     },
     "execution_count": 47,
     "metadata": {},
     "output_type": "execute_result"
    }
   ],
   "source": [
    "# rerun LDA model using number of topics equal to 4\n",
    "\n",
    "lda4 = sklearn.decomposition.LatentDirichletAllocation(\n",
    "    n_components=4,  # number of topics data suggests\n",
    "    learning_method=\"online\",\n",
    "    random_state=0\n",
    ")\n",
    "lda4.fit(clean_vec1)"
   ]
  },
  {
   "cell_type": "code",
   "execution_count": 48,
   "metadata": {},
   "outputs": [],
   "source": [
    "# run function to output raw matrices in nice table format\n",
    "\n",
    "W_df4, H_df4 = get_topics(\n",
    "    mod=lda4,\n",
    "    vec=clean_vec1,\n",
    "    names=feature_names_vec1,\n",
    "    docs=raw,\n",
    "    ndocs=number_docs, \n",
    "    nwords=number_words\n",
    ")"
   ]
  },
  {
   "cell_type": "code",
   "execution_count": 49,
   "metadata": {},
   "outputs": [
    {
     "name": "stdout",
     "output_type": "stream",
     "text": [
      "                   Topic0                 Topic1                Topic2  \\\n",
      "Word0   (0.0445, economy)        (0.0995, obama)     (0.1034, economy)   \n",
      "Word1  (0.0332, economic)    (0.0863, president)    (0.0236, economic)   \n",
      "Word2  (0.0235, minister)       (0.0496, barack)      (0.0232, growth)   \n",
      "Word3     (0.0185, could)     (0.018, palestine)       (0.0193, world)   \n",
      "Word4     (0.0166, would)       (0.0155, obamas)  (0.0168, government)   \n",
      "Word5  (0.0147, european)        (0.0148, state)       (0.0146, china)   \n",
      "Word6    (0.0135, global)   (0.0148, washington)     (0.0144, percent)   \n",
      "Word7   (0.0131, clinton)  (0.0141, palestinian)       (0.0128, month)   \n",
      "Word8   (0.0115, britain)        (0.0128, house)     (0.0125, quarter)   \n",
      "Word9     (0.0113, prime)        (0.0118, white)      (0.0115, market)   \n",
      "\n",
      "                     Topic3  \n",
      "Word0    (0.122, microsoft)  \n",
      "Word1     (0.0279, windows)  \n",
      "Word2     (0.0273, company)  \n",
      "Word3  (0.0221, microsofts)  \n",
      "Word4    (0.0217, announce)  \n",
      "Word5       (0.0116, today)  \n",
      "Word6     (0.0116, release)  \n",
      "Word7      (0.0105, update)  \n",
      "Word8    (0.0091, business)  \n",
      "Word9     (0.0089, surface)  \n"
     ]
    }
   ],
   "source": [
    "# word-topic table\n",
    "\n",
    "print(W_df4)"
   ]
  },
  {
   "cell_type": "code",
   "execution_count": 50,
   "metadata": {},
   "outputs": [
    {
     "name": "stdout",
     "output_type": "stream",
     "text": [
      "                                                 Topic0  \\\n",
      "Doc0  (0.9497, Since 1977 our economy the guiding pr...   \n",
      "Doc1  (0.9494, WASHINGTON Bank of Canada Governor St...   \n",
      "Doc2  (0.9362, The truth is that President Obama has...   \n",
      "Doc3  (0.9358, WASHINGTON (AP) — President Barack Ob...   \n",
      "Doc4  (0.9348, US President Barack Obama will on Tue...   \n",
      "Doc5  (0.9347, Before Microsoft released the origina...   \n",
      "Doc6  (0.9316, Organized labor has struggled with ho...   \n",
      "Doc7  (0.9306, French Prime Minister Manuel Valls be...   \n",
      "Doc8  (0.9304, CBC News, citing sources familiar wit...   \n",
      "Doc9  (0.9298, While there has been much commentary ...   \n",
      "\n",
      "                                                 Topic1  \\\n",
      "Doc0  (0.9749, Member nations of the Organization of...   \n",
      "Doc1  (0.9747, On Wednesday, First Lady Michelle Oba...   \n",
      "Doc2  (0.9732, As Microsoft’s stock approaches its r...   \n",
      "Doc3  (0.973, President Barack Obama will visit a mo...   \n",
      "Doc4  (0.973, Microsoft's big Windows 10 push is par...   \n",
      "Doc5  (0.973, [BEIJING] China's economy will not hav...   \n",
      "Doc6  (0.972, US stocks ended the worst January sinc...   \n",
      "Doc7  (0.9719,  Microsoft's latest security patch fo...   \n",
      "Doc8  (0.9714, Microsoft logo Microsoft (NASDAQ:MSFT...   \n",
      "Doc9  (0.9705, President Barack Obama is delivering ...   \n",
      "\n",
      "                                                 Topic2  \\\n",
      "Doc0  (0.9757, WASHINGTON (AP) \"\"\" President Barack ...   \n",
      "Doc1  (0.9749, Manifold Technology has realised the ...   \n",
      "Doc2  (0.9748, A new survey shows that for the past ...   \n",
      "Doc3  (0.9748, Sydney (AFP) - Australia's economy de...   \n",
      "Doc4  (0.9748, An escaped political prisoner whose e...   \n",
      "Doc5  (0.9748, The U.S. economy grew a revised 2% an...   \n",
      "Doc6  (0.9748, The US economy grew at an annual rate...   \n",
      "Doc7  (0.9748, The Washington Post editorial board s...   \n",
      "Doc8  (0.9748, Prime Minister Alexis Tsipras said Mo...   \n",
      "Doc9  (0.9739, The US economy grew at a 2% pace in t...   \n",
      "\n",
      "                                                 Topic3  \n",
      "Doc0  (0.9728, Patent trolls drain $1.5 billion a we...  \n",
      "Doc1  (0.9721, Economist with the University of Ghan...  \n",
      "Doc2  (0.9721, The Estonian economy was also positiv...  \n",
      "Doc3  (0.9721, 2 economy could be sucked into a Japa...  \n",
      "Doc4  (0.9718, ELKHART, Ind. (AP) — President Barack...  \n",
      "Doc5  (0.9714, He pioneered indexes for measuring ho...  \n",
      "Doc6  (0.9711, BENGALURU: The global tech giant Micr...  \n",
      "Doc7  (0.9706, The SR, Christof Heyns, in the past 6...  \n",
      "Doc8  (0.9706, Britain's economy grew by 0.5% in the...  \n",
      "Doc9  (0.9702, Brazil's economy, which is grappling ...  \n"
     ]
    }
   ],
   "source": [
    "# document-topic table\n",
    "\n",
    "print(H_df4)"
   ]
  },
  {
   "cell_type": "code",
   "execution_count": 51,
   "metadata": {},
   "outputs": [
    {
     "data": {
      "text/html": [
       "\n",
       "<link rel=\"stylesheet\" type=\"text/css\" href=\"https://cdn.rawgit.com/bmabey/pyLDAvis/files/ldavis.v1.0.0.css\">\n",
       "\n",
       "\n",
       "<div id=\"ldavis_el1316424625607534807032551424\"></div>\n",
       "<script type=\"text/javascript\">\n",
       "\n",
       "var ldavis_el1316424625607534807032551424_data = {\"mdsDat\": {\"x\": [-0.10637414426317378, 0.15094686228478346, -0.2990104381607064, 0.2544377201390967], \"y\": [0.3316446810065736, -0.1284583868354915, -0.19218975693704063, -0.010996537234041395], \"topics\": [1, 2, 3, 4], \"cluster\": [1, 1, 1, 1], \"Freq\": [33.932561352881876, 26.100557314340584, 22.39470196196644, 17.572179370811117]}, \"tinfo\": {\"Category\": [\"Default\", \"Default\", \"Default\", \"Default\", \"Default\", \"Default\", \"Default\", \"Default\", \"Default\", \"Default\", \"Topic1\", \"Topic1\", \"Topic1\", \"Topic1\", \"Topic1\", \"Topic1\", \"Topic1\", \"Topic1\", \"Topic1\", \"Topic1\", \"Topic1\", \"Topic2\", \"Topic2\", \"Topic2\", \"Topic2\", \"Topic2\", \"Topic2\", \"Topic2\", \"Topic2\", \"Topic2\", \"Topic2\", \"Topic2\", \"Topic2\", \"Topic2\", \"Topic2\", \"Topic2\", \"Topic2\", \"Topic3\", \"Topic3\", \"Topic3\", \"Topic3\", \"Topic3\", \"Topic3\", \"Topic3\", \"Topic3\", \"Topic3\", \"Topic3\", \"Topic3\", \"Topic3\", \"Topic3\", \"Topic4\", \"Topic4\", \"Topic4\", \"Topic4\", \"Topic4\", \"Topic4\", \"Topic4\", \"Topic4\", \"Topic4\", \"Topic4\", \"Topic4\", \"Topic4\", \"Topic4\", \"Topic4\", \"Topic4\", \"Topic4\"], \"Freq\": [21092.0, 26081.0, 22608.0, 26880.0, 12998.0, 9250.0, 4831.0, 4718.0, 4679.0, 3817.0, 26080.36751998708, 22608.02392140937, 12998.148730985413, 4718.085923732639, 4066.8106498887537, 3879.6079751407237, 3691.1550076717344, 3351.846558664299, 3090.017208729949, 3016.9750602515214, 3884.6803280766458, 4678.346243336909, 3378.082027923021, 2897.0633915907447, 2513.045142680029, 2191.749607789016, 1632.3011238235586, 1630.0612303761573, 1403.3497336514918, 1225.7433529781242, 1219.4340487330874, 2941.33104204824, 20839.681721900975, 3898.5225143186412, 2573.4691563733168, 4748.042764320844, 2313.592452701173, 21091.593031862816, 4830.244837497137, 4717.963375155176, 3816.9880280835123, 3749.8154992460077, 1810.9859618683824, 1534.0889142203068, 1490.8762261346621, 1469.0602320949233, 1453.8475616848064, 2000.0420342039508, 2012.1129700022427, 1571.4490046145434, 3185.9719997878456, 2507.050428157234, 1999.0893010540478, 1773.6200689240427, 1527.6871042488751, 1416.6232570236614, 1316.625669556037, 1283.6734258091476, 1128.517039767407, 1026.5675307546778, 1556.477218860611, 1361.5922347144794, 4501.563154216964, 2258.5065291326055, 6040.555086640003, 1827.1687842321485], \"Term\": [\"microsoft\", \"obama\", \"president\", \"economy\", \"barack\", \"economic\", \"windows\", \"company\", \"growth\", \"microsofts\", \"obama\", \"president\", \"barack\", \"palestine\", \"obamas\", \"washington\", \"palestinian\", \"house\", \"white\", \"administration\", \"state\", \"growth\", \"government\", \"percent\", \"quarter\", \"expect\", \"billion\", \"three\", \"strong\", \"central\", \"expand\", \"china\", \"economy\", \"world\", \"month\", \"economic\", \"market\", \"microsoft\", \"windows\", \"company\", \"microsofts\", \"announce\", \"update\", \"surface\", \"software\", \"cloud\", \"technology\", \"release\", \"today\", \"business\", \"minister\", \"could\", \"european\", \"clinton\", \"prime\", \"still\", \"hillary\", \"trade\", \"despite\", \"leave\", \"britain\", \"major\", \"economic\", \"would\", \"economy\", \"global\"], \"Total\": [21092.0, 26081.0, 22608.0, 26880.0, 12998.0, 9250.0, 4831.0, 4718.0, 4679.0, 3817.0, 26081.141746284924, 22608.799730729752, 12998.920572802877, 4718.868461104545, 4067.586319978639, 3880.403376856209, 3691.9323089840977, 3352.6201280600753, 3090.7905704934365, 3017.7553814705025, 5350.068469036895, 4679.123797822181, 3378.878579630446, 2897.8250096722536, 2513.8027979989174, 2192.5413436621557, 1633.1264311217835, 1630.956440257547, 1404.1314496459686, 1226.5200981385376, 1220.2289835612214, 3086.826828751651, 26880.740933935747, 4316.2490892016, 3344.2617881361643, 9250.10987977586, 3037.0451782141618, 21092.35337504096, 4831.000929608246, 4718.73844954318, 3817.747313142657, 3750.5998964494415, 1811.7489337137174, 1534.8466869399997, 1491.6362830045996, 1469.8210889418017, 1454.6150261451965, 2644.8261694264784, 2876.1369282747546, 3278.8287859140414, 3186.7387132420417, 2507.8364271298124, 1999.8563021093241, 1774.412048855824, 1528.4569212670722, 1417.4210292724179, 1317.4154131313162, 1284.4572349566326, 1129.3124145008198, 1027.3610841257444, 1559.2334438092334, 1362.9327119756806, 9250.10987977586, 3726.2806650132034, 26880.740933935747, 3969.8758837131427], \"loglift\": [10.0, 9.0, 8.0, 7.0, 6.0, 5.0, 4.0, 3.0, 2.0, 1.0, 1.0808, 1.0808, 1.0807, 1.0806, 1.0806, 1.0806, 1.0806, 1.0806, 1.0805, 1.0805, 0.7607, 1.343, 1.343, 1.343, 1.3429, 1.3429, 1.3427, 1.3427, 1.3427, 1.3426, 1.3426, 1.2949, 1.0887, 1.2414, 1.0812, 0.6763, 1.0711, 1.4963, 1.4962, 1.4962, 1.4961, 1.4961, 1.4959, 1.4959, 1.4958, 1.4958, 1.4958, 1.2169, 1.1391, 0.7609, 1.7386, 1.7385, 1.7385, 1.7384, 1.7383, 1.7383, 1.7383, 1.7382, 1.7381, 1.7381, 1.7371, 1.7379, 1.0186, 1.2381, 0.2459, 0.9629], \"logprob\": [10.0, 9.0, 8.0, 7.0, 6.0, 5.0, 4.0, 3.0, 2.0, 1.0, -2.3073, -2.4502, -3.0037, -4.0171, -4.1657, -4.2128, -4.2626, -4.359, -4.4403, -4.4643, -4.2115, -3.7632, -4.0888, -4.2424, -4.3846, -4.5214, -4.8161, -4.8175, -4.9672, -5.1026, -5.1077, -4.2272, -2.2692, -3.9455, -4.3608, -3.7484, -4.4673, -2.1041, -3.5781, -3.6016, -3.8135, -3.8313, -4.5591, -4.725, -4.7536, -4.7683, -4.7788, -4.4598, -4.4538, -4.701, -3.7517, -3.9914, -4.2178, -4.3374, -4.4867, -4.5622, -4.6354, -4.6607, -4.7896, -4.8842, -4.468, -4.6018, -3.406, -4.0958, -3.112, -4.3077]}, \"token.table\": {\"Topic\": [1, 3, 1, 2, 2, 4, 2, 3, 2, 2, 4, 4, 3, 3, 4, 4, 2, 4, 2, 4, 4, 2, 2, 2, 4, 2, 2, 4, 1, 4, 3, 4, 2, 3, 4, 3, 3, 4, 2, 3, 1, 1, 1, 1, 2, 1, 4, 2, 1, 2, 3, 3, 1, 2, 4, 4, 2, 3, 3, 2, 1, 3, 4, 4, 3, 1, 1, 3, 1, 2, 3, 1, 3, 4], \"Freq\": [0.9997496876403102, 0.9998400532005535, 0.9999291808271524, 0.9993102609202095, 0.0012826815689086083, 0.9979262606108973, 0.520612728341696, 0.47913450276789954, 0.9995759562853255, 0.9527583383060639, 0.04697380450675936, 0.9997677828799181, 0.9994413681039284, 0.9998435069985175, 0.9996664746070502, 0.999723358658943, 0.5132911999651888, 0.48669692128123, 0.7752762489403862, 0.22473338866837203, 0.9995718181809258, 0.9989928254632712, 0.9997530976263136, 0.539563468164784, 0.46021589931702167, 0.9997399789279963, 0.9997598272944384, 0.9996846756708814, 0.9998150318150019, 0.9996485324085916, 0.0007337119369234447, 0.9993156580897317, 0.7619247868287143, 0.11952406984391672, 0.11853626761380172, 0.9999832462961967, 0.9998042528534866, 0.9997681914620198, 0.7693775676078257, 0.23024513294132368, 0.9999562233012638, 0.9998558555535111, 0.9998159598828188, 0.9997474739767496, 0.9997153003823558, 0.9999646274574822, 0.9997010571507025, 0.9996806440029598, 0.00415906350563119, 0.23933519991495847, 0.7561933646602164, 0.999573432872444, 0.7261589309527785, 0.14784857513092606, 0.12597969612925938, 0.9997029610371775, 0.9991941996269268, 0.9994483573198522, 0.9995771897483925, 0.9994135709366978, 0.1282970905774448, 0.6995494478098073, 0.17210585321364544, 0.9996440247723405, 0.9995866238970638, 0.9998960476999338, 0.9997442173853565, 0.9997928111331729, 0.0016217785061368706, 0.9033306279182369, 0.09522156657460769, 0.26943756798213225, 0.12452094775269858, 0.6062345279597976], \"Term\": [\"administration\", \"announce\", \"barack\", \"billion\", \"britain\", \"britain\", \"business\", \"business\", \"central\", \"china\", \"china\", \"clinton\", \"cloud\", \"company\", \"could\", \"despite\", \"economic\", \"economic\", \"economy\", \"economy\", \"european\", \"expand\", \"expect\", \"global\", \"global\", \"government\", \"growth\", \"hillary\", \"house\", \"leave\", \"major\", \"major\", \"market\", \"market\", \"market\", \"microsoft\", \"microsofts\", \"minister\", \"month\", \"month\", \"obama\", \"obamas\", \"palestine\", \"palestinian\", \"percent\", \"president\", \"prime\", \"quarter\", \"release\", \"release\", \"release\", \"software\", \"state\", \"state\", \"state\", \"still\", \"strong\", \"surface\", \"technology\", \"three\", \"today\", \"today\", \"today\", \"trade\", \"update\", \"washington\", \"white\", \"windows\", \"world\", \"world\", \"world\", \"would\", \"would\", \"would\"]}, \"R\": 10, \"lambda.step\": 0.01, \"plot.opts\": {\"xlab\": \"PC1\", \"ylab\": \"PC2\"}, \"topic.order\": [2, 3, 4, 1]};\n",
       "\n",
       "function LDAvis_load_lib(url, callback){\n",
       "  var s = document.createElement('script');\n",
       "  s.src = url;\n",
       "  s.async = true;\n",
       "  s.onreadystatechange = s.onload = callback;\n",
       "  s.onerror = function(){console.warn(\"failed to load library \" + url);};\n",
       "  document.getElementsByTagName(\"head\")[0].appendChild(s);\n",
       "}\n",
       "\n",
       "if(typeof(LDAvis) !== \"undefined\"){\n",
       "   // already loaded: just create the visualization\n",
       "   !function(LDAvis){\n",
       "       new LDAvis(\"#\" + \"ldavis_el1316424625607534807032551424\", ldavis_el1316424625607534807032551424_data);\n",
       "   }(LDAvis);\n",
       "}else if(typeof define === \"function\" && define.amd){\n",
       "   // require.js is available: use it to load d3/LDAvis\n",
       "   require.config({paths: {d3: \"https://cdnjs.cloudflare.com/ajax/libs/d3/3.5.5/d3.min\"}});\n",
       "   require([\"d3\"], function(d3){\n",
       "      window.d3 = d3;\n",
       "      LDAvis_load_lib(\"https://cdn.rawgit.com/bmabey/pyLDAvis/files/ldavis.v1.0.0.js\", function(){\n",
       "        new LDAvis(\"#\" + \"ldavis_el1316424625607534807032551424\", ldavis_el1316424625607534807032551424_data);\n",
       "      });\n",
       "    });\n",
       "}else{\n",
       "    // require.js not available: dynamically load d3 & LDAvis\n",
       "    LDAvis_load_lib(\"https://cdnjs.cloudflare.com/ajax/libs/d3/3.5.5/d3.min.js\", function(){\n",
       "         LDAvis_load_lib(\"https://cdn.rawgit.com/bmabey/pyLDAvis/files/ldavis.v1.0.0.js\", function(){\n",
       "                 new LDAvis(\"#\" + \"ldavis_el1316424625607534807032551424\", ldavis_el1316424625607534807032551424_data);\n",
       "            })\n",
       "         });\n",
       "}\n",
       "</script>"
      ],
      "text/plain": [
       "<IPython.core.display.HTML object>"
      ]
     },
     "execution_count": 51,
     "metadata": {},
     "output_type": "execute_result"
    }
   ],
   "source": [
    "# iteractive visualization\n",
    "\n",
    "lda4_plot = pyLDAvis.sklearn.prepare(lda4, clean_vec1, vectorizer1, R=10)\n",
    "pyLDAvis.display(lda4_plot)"
   ]
  },
  {
   "cell_type": "markdown",
   "metadata": {},
   "source": [
    "#### Exercise 7.10: TF-IDF Vectorizer"
   ]
  },
  {
   "cell_type": "code",
   "execution_count": 52,
   "metadata": {},
   "outputs": [
    {
     "name": "stdout",
     "output_type": "stream",
     "text": [
      "  (0, 408)\t0.6674158480647361\n",
      "  (0, 88)\t0.2806438561841076\n",
      "  (0, 644)\t0.23477504705012808\n",
      "  (0, 558)\t0.46645835095251387\n",
      "  (0, 573)\t0.4506577369217293\n"
     ]
    }
   ],
   "source": [
    "# convert to bag of words model\n",
    "# use tf-idf method this time\n",
    "\n",
    "vectorizer2 = sklearn.feature_extraction.text.TfidfVectorizer(\n",
    "    analyzer=\"word\",\n",
    "    max_df=0.5, \n",
    "    min_df=20, \n",
    "    max_features=number_features,\n",
    "    smooth_idf=False\n",
    ")\n",
    "clean_vec2 = vectorizer2.fit_transform(clean_sentences)\n",
    "print(clean_vec2[0])"
   ]
  },
  {
   "cell_type": "code",
   "execution_count": 53,
   "metadata": {},
   "outputs": [
    {
     "data": {
      "text/plain": [
       "['abbas',\n",
       " 'ability',\n",
       " 'accelerate',\n",
       " 'accept',\n",
       " 'access',\n",
       " 'accord',\n",
       " 'account',\n",
       " 'accused',\n",
       " 'achieve',\n",
       " 'acknowledge',\n",
       " 'acquire',\n",
       " 'acquisition',\n",
       " 'across',\n",
       " 'action',\n",
       " 'activist',\n",
       " 'activity',\n",
       " 'actually',\n",
       " 'addition',\n",
       " 'address',\n",
       " 'administration',\n",
       " 'admit',\n",
       " 'advance',\n",
       " 'adviser',\n",
       " 'affairs',\n",
       " 'affect',\n",
       " 'africa',\n",
       " 'african',\n",
       " 'afternoon',\n",
       " 'agency',\n",
       " 'agenda',\n",
       " 'agree',\n",
       " 'agreement',\n",
       " 'ahead',\n",
       " 'alberta',\n",
       " 'allies',\n",
       " 'allow',\n",
       " 'almost',\n",
       " 'along',\n",
       " 'already',\n",
       " 'although',\n",
       " 'always',\n",
       " 'amazon',\n",
       " 'america',\n",
       " 'american',\n",
       " 'among',\n",
       " 'amount',\n",
       " 'analysis',\n",
       " 'analyst',\n",
       " 'android',\n",
       " 'anniversary',\n",
       " 'announce',\n",
       " 'announcement',\n",
       " 'annual',\n",
       " 'another',\n",
       " 'answer',\n",
       " 'antonin',\n",
       " 'appeal',\n",
       " 'appear',\n",
       " 'apple',\n",
       " 'application',\n",
       " 'approach',\n",
       " 'approve',\n",
       " 'april',\n",
       " 'arabia',\n",
       " 'argentina',\n",
       " 'argue',\n",
       " 'around',\n",
       " 'arrive',\n",
       " 'article',\n",
       " 'asian',\n",
       " 'assistant',\n",
       " 'associate',\n",
       " 'association',\n",
       " 'attack',\n",
       " 'attempt',\n",
       " 'attend',\n",
       " 'attention',\n",
       " 'augment',\n",
       " 'australia',\n",
       " 'australian',\n",
       " 'author',\n",
       " 'authorities',\n",
       " 'authority',\n",
       " 'available',\n",
       " 'average',\n",
       " 'award',\n",
       " 'azure',\n",
       " 'banks',\n",
       " 'barack',\n",
       " 'battle',\n",
       " 'become',\n",
       " 'begin',\n",
       " 'beginning',\n",
       " 'behind',\n",
       " 'beijing',\n",
       " 'belief',\n",
       " 'believe',\n",
       " 'benefit',\n",
       " 'bernardino',\n",
       " 'bernie',\n",
       " 'better',\n",
       " 'billion',\n",
       " 'black',\n",
       " 'blame',\n",
       " 'block',\n",
       " 'bloomberg',\n",
       " 'board',\n",
       " 'boost',\n",
       " 'border',\n",
       " 'brand',\n",
       " 'brazil',\n",
       " 'break',\n",
       " 'brexit',\n",
       " 'bring',\n",
       " 'bringing',\n",
       " 'britain',\n",
       " 'british',\n",
       " 'broad',\n",
       " 'browser',\n",
       " 'brussels',\n",
       " 'budget',\n",
       " 'build',\n",
       " 'building',\n",
       " 'bureau',\n",
       " 'business',\n",
       " 'california',\n",
       " 'calling',\n",
       " 'campaign',\n",
       " 'canada',\n",
       " 'canadian',\n",
       " 'candidate',\n",
       " 'capital',\n",
       " 'carry',\n",
       " 'cause',\n",
       " 'celebrate',\n",
       " 'center',\n",
       " 'central',\n",
       " 'centre',\n",
       " 'century',\n",
       " 'ceremony',\n",
       " 'chair',\n",
       " 'chairman',\n",
       " 'challenge',\n",
       " 'chance',\n",
       " 'change',\n",
       " 'charge',\n",
       " 'check',\n",
       " 'chicago',\n",
       " 'chief',\n",
       " 'child',\n",
       " 'china',\n",
       " 'chinese',\n",
       " 'choice',\n",
       " 'choose',\n",
       " 'chris',\n",
       " 'christmas',\n",
       " 'citizen',\n",
       " 'civil',\n",
       " 'claim',\n",
       " 'class',\n",
       " 'clear',\n",
       " 'climate',\n",
       " 'clinton',\n",
       " 'close',\n",
       " 'cloud',\n",
       " 'collapse',\n",
       " 'college',\n",
       " 'combat',\n",
       " 'coming',\n",
       " 'comment',\n",
       " 'commerce',\n",
       " 'commission',\n",
       " 'commitment',\n",
       " 'committee',\n",
       " 'commodity',\n",
       " 'community',\n",
       " 'company',\n",
       " 'compare',\n",
       " 'complete',\n",
       " 'computer',\n",
       " 'computing',\n",
       " 'concern',\n",
       " 'conditions',\n",
       " 'conference',\n",
       " 'confidence',\n",
       " 'confirm',\n",
       " 'conflict',\n",
       " 'congress',\n",
       " 'connect',\n",
       " 'conservative',\n",
       " 'consider',\n",
       " 'console',\n",
       " 'construction',\n",
       " 'consumer',\n",
       " 'consumption',\n",
       " 'content',\n",
       " 'continue',\n",
       " 'contract',\n",
       " 'contribute',\n",
       " 'control',\n",
       " 'cooperation',\n",
       " 'corporate',\n",
       " 'corporation',\n",
       " 'cortana',\n",
       " 'could',\n",
       " 'council',\n",
       " 'country',\n",
       " 'county',\n",
       " 'couple',\n",
       " 'course',\n",
       " 'court',\n",
       " 'cover',\n",
       " 'create',\n",
       " 'credit',\n",
       " 'crisis',\n",
       " 'critical',\n",
       " 'criticism',\n",
       " 'criticize',\n",
       " 'cuban',\n",
       " 'currency',\n",
       " 'current',\n",
       " 'currently',\n",
       " 'customer',\n",
       " 'daily',\n",
       " 'damage',\n",
       " 'daughter',\n",
       " 'david',\n",
       " 'death',\n",
       " 'debate',\n",
       " 'decade',\n",
       " 'december',\n",
       " 'decide',\n",
       " 'decision',\n",
       " 'declare',\n",
       " 'decline',\n",
       " 'defend',\n",
       " 'defense',\n",
       " 'delhi',\n",
       " 'deliver',\n",
       " 'demand',\n",
       " 'democrat',\n",
       " 'democratic',\n",
       " 'department',\n",
       " 'deputy',\n",
       " 'describe',\n",
       " 'design',\n",
       " 'despite',\n",
       " 'details',\n",
       " 'develop',\n",
       " 'developer',\n",
       " 'developing',\n",
       " 'development',\n",
       " 'device',\n",
       " 'devices',\n",
       " 'different',\n",
       " 'difficult',\n",
       " 'digital',\n",
       " 'dinner',\n",
       " 'direct',\n",
       " 'directly',\n",
       " 'director',\n",
       " 'discus',\n",
       " 'discuss',\n",
       " 'discussion',\n",
       " 'display',\n",
       " 'district',\n",
       " 'document',\n",
       " 'dollar',\n",
       " 'domestic',\n",
       " 'donald',\n",
       " 'download',\n",
       " 'downturn',\n",
       " 'drive',\n",
       " 'driver',\n",
       " 'dynamics',\n",
       " 'earlier',\n",
       " 'early',\n",
       " 'earnings',\n",
       " 'economic',\n",
       " 'economist',\n",
       " 'economy',\n",
       " 'economyquot',\n",
       " 'edition',\n",
       " 'education',\n",
       " 'effect',\n",
       " 'effort',\n",
       " 'eight',\n",
       " 'elect',\n",
       " 'election',\n",
       " 'email',\n",
       " 'emerge',\n",
       " 'employee',\n",
       " 'employment',\n",
       " 'enable',\n",
       " 'encourage',\n",
       " 'endorse',\n",
       " 'energy',\n",
       " 'engine',\n",
       " 'england',\n",
       " 'enough',\n",
       " 'ensure',\n",
       " 'enter',\n",
       " 'enterprise',\n",
       " 'environment',\n",
       " 'especially',\n",
       " 'estimate',\n",
       " 'europe',\n",
       " 'european',\n",
       " 'eurozone',\n",
       " 'event',\n",
       " 'every',\n",
       " 'everything',\n",
       " 'evidence',\n",
       " 'exchange',\n",
       " 'executive',\n",
       " 'exist',\n",
       " 'expand',\n",
       " 'expansion',\n",
       " 'expect',\n",
       " 'expectation',\n",
       " 'experience',\n",
       " 'expert',\n",
       " 'explain',\n",
       " 'explorer',\n",
       " 'export',\n",
       " 'express',\n",
       " 'extend',\n",
       " 'external',\n",
       " 'facebook',\n",
       " 'facing',\n",
       " 'factor',\n",
       " 'family',\n",
       " 'feature',\n",
       " 'february',\n",
       " 'federal',\n",
       " 'fight',\n",
       " 'figure',\n",
       " 'final',\n",
       " 'finally',\n",
       " 'finance',\n",
       " 'financial',\n",
       " 'first',\n",
       " 'fiscal',\n",
       " 'florida',\n",
       " 'focus',\n",
       " 'follow',\n",
       " 'following',\n",
       " 'force',\n",
       " 'forecast',\n",
       " 'foreign',\n",
       " 'former',\n",
       " 'forum',\n",
       " 'forward',\n",
       " 'found',\n",
       " 'foundation',\n",
       " 'fourth',\n",
       " 'france',\n",
       " 'francisco',\n",
       " 'freedom',\n",
       " 'french',\n",
       " 'fresh',\n",
       " 'friday',\n",
       " 'friend',\n",
       " 'front',\n",
       " 'funding',\n",
       " 'future',\n",
       " 'gaming',\n",
       " 'garland',\n",
       " 'gather',\n",
       " 'general',\n",
       " 'generate',\n",
       " 'generation',\n",
       " 'george',\n",
       " 'german',\n",
       " 'germany',\n",
       " 'getting',\n",
       " 'giant',\n",
       " 'given',\n",
       " 'giving',\n",
       " 'global',\n",
       " 'going',\n",
       " 'google',\n",
       " 'government',\n",
       " 'governor',\n",
       " 'grant',\n",
       " 'great',\n",
       " 'greater',\n",
       " 'gross',\n",
       " 'ground',\n",
       " 'group',\n",
       " 'growing',\n",
       " 'growth',\n",
       " 'hands',\n",
       " 'happen',\n",
       " 'hardware',\n",
       " 'havana',\n",
       " 'headset',\n",
       " 'health',\n",
       " 'helping',\n",
       " 'higher',\n",
       " 'highlight',\n",
       " 'hillary',\n",
       " 'hiroshima',\n",
       " 'historic',\n",
       " 'history',\n",
       " 'holding',\n",
       " 'holiday',\n",
       " 'hololens',\n",
       " 'honor',\n",
       " 'hours',\n",
       " 'house',\n",
       " 'however',\n",
       " 'human',\n",
       " 'hundred',\n",
       " 'identify',\n",
       " 'image',\n",
       " 'immigration',\n",
       " 'impact',\n",
       " 'important',\n",
       " 'improve',\n",
       " 'improvement',\n",
       " 'include',\n",
       " 'income',\n",
       " 'increase',\n",
       " 'increasingly',\n",
       " 'independent',\n",
       " 'index',\n",
       " 'india',\n",
       " 'indian',\n",
       " 'indicate',\n",
       " 'indicator',\n",
       " 'indonesia',\n",
       " 'industrial',\n",
       " 'industry',\n",
       " 'inflation',\n",
       " 'information',\n",
       " 'infrastructure',\n",
       " 'initiative',\n",
       " 'innovation',\n",
       " 'inside',\n",
       " 'insider',\n",
       " 'instead',\n",
       " 'institute',\n",
       " 'intelligence',\n",
       " 'interest',\n",
       " 'international',\n",
       " 'internet',\n",
       " 'interview',\n",
       " 'introduce',\n",
       " 'investment',\n",
       " 'investor',\n",
       " 'involve',\n",
       " 'ireland',\n",
       " 'islamic',\n",
       " 'island',\n",
       " 'israel',\n",
       " 'israeli',\n",
       " 'issue',\n",
       " 'january',\n",
       " 'japan',\n",
       " 'japanese',\n",
       " 'jerusalem',\n",
       " 'jewish',\n",
       " 'joint',\n",
       " 'journalist',\n",
       " 'judge',\n",
       " 'justice',\n",
       " 'justin',\n",
       " 'keeping',\n",
       " 'keyboard',\n",
       " 'kingdom',\n",
       " 'korea',\n",
       " 'kuala',\n",
       " 'labor',\n",
       " 'labour',\n",
       " 'laptop',\n",
       " 'large',\n",
       " 'largely',\n",
       " 'later',\n",
       " 'latest',\n",
       " 'launch',\n",
       " 'lawmaker',\n",
       " 'leader',\n",
       " 'leaders',\n",
       " 'leadership',\n",
       " 'leading',\n",
       " 'learn',\n",
       " 'least',\n",
       " 'leave',\n",
       " 'leaving',\n",
       " 'legacy',\n",
       " 'legal',\n",
       " 'legislation',\n",
       " 'letter',\n",
       " 'level',\n",
       " 'liberation',\n",
       " 'likely',\n",
       " 'linkedin',\n",
       " 'linux',\n",
       " 'little',\n",
       " 'local',\n",
       " 'london',\n",
       " 'longer',\n",
       " 'looking',\n",
       " 'lower',\n",
       " 'lumia',\n",
       " 'lumpur',\n",
       " 'machine',\n",
       " 'mahmoud',\n",
       " 'maintain',\n",
       " 'major',\n",
       " 'majority',\n",
       " 'maker',\n",
       " 'making',\n",
       " 'malaysia',\n",
       " 'manage',\n",
       " 'management',\n",
       " 'manager',\n",
       " 'manufacturing',\n",
       " 'march',\n",
       " 'market',\n",
       " 'massive',\n",
       " 'matter',\n",
       " 'mayor',\n",
       " 'means',\n",
       " 'measure',\n",
       " 'medium',\n",
       " 'meeting',\n",
       " 'member',\n",
       " 'mention',\n",
       " 'message',\n",
       " 'michelle',\n",
       " 'michigan',\n",
       " 'microsoft',\n",
       " 'microsofts',\n",
       " 'middle',\n",
       " 'middot',\n",
       " 'might',\n",
       " 'military',\n",
       " 'million',\n",
       " 'minister',\n",
       " 'ministry',\n",
       " 'mobile',\n",
       " 'model',\n",
       " 'moment',\n",
       " 'momentum',\n",
       " 'monday',\n",
       " 'monetary',\n",
       " 'money',\n",
       " 'month',\n",
       " 'morning',\n",
       " 'moscow',\n",
       " 'mosque',\n",
       " 'movement',\n",
       " 'muslim',\n",
       " 'nadella',\n",
       " 'nasdaqmsft',\n",
       " 'nation',\n",
       " 'national',\n",
       " 'nearly',\n",
       " 'negative',\n",
       " 'network',\n",
       " 'never',\n",
       " 'nigeria',\n",
       " 'night',\n",
       " 'nominate',\n",
       " 'nomination',\n",
       " 'nominee',\n",
       " 'north',\n",
       " 'november',\n",
       " 'nuclear',\n",
       " 'number',\n",
       " 'numbers',\n",
       " 'obama',\n",
       " 'obamas',\n",
       " 'occupation',\n",
       " 'occupy',\n",
       " 'october',\n",
       " 'offer',\n",
       " 'offering',\n",
       " 'office',\n",
       " 'officer',\n",
       " 'official',\n",
       " 'officially',\n",
       " 'often',\n",
       " 'ongoing',\n",
       " 'online',\n",
       " 'opening',\n",
       " 'operate',\n",
       " 'opportunity',\n",
       " 'opposition',\n",
       " 'optimistic',\n",
       " 'option',\n",
       " 'order',\n",
       " 'organization',\n",
       " 'orlando',\n",
       " 'others',\n",
       " 'outlook',\n",
       " 'output',\n",
       " 'outside',\n",
       " 'overall',\n",
       " 'owner',\n",
       " 'palestine',\n",
       " 'palestinian',\n",
       " 'paris',\n",
       " 'parliament',\n",
       " 'particularly',\n",
       " 'partner',\n",
       " 'partnership',\n",
       " 'party',\n",
       " 'peace',\n",
       " 'people',\n",
       " 'percent',\n",
       " 'performance',\n",
       " 'period',\n",
       " 'person',\n",
       " 'personal',\n",
       " 'phone',\n",
       " 'photo',\n",
       " 'picture',\n",
       " 'place',\n",
       " 'planning',\n",
       " 'platform',\n",
       " 'player',\n",
       " 'pledge',\n",
       " 'plunge',\n",
       " 'point',\n",
       " 'police',\n",
       " 'policy',\n",
       " 'political',\n",
       " 'politics',\n",
       " 'popular',\n",
       " 'position',\n",
       " 'positive',\n",
       " 'possible',\n",
       " 'potential',\n",
       " 'power',\n",
       " 'powerful',\n",
       " 'praise',\n",
       " 'predict',\n",
       " 'premier',\n",
       " 'prepare',\n",
       " 'present',\n",
       " 'presidency',\n",
       " 'president',\n",
       " 'presidential',\n",
       " 'press',\n",
       " 'pressure',\n",
       " 'presumptive',\n",
       " 'pretty',\n",
       " 'prevent',\n",
       " 'preview',\n",
       " 'previous',\n",
       " 'previously',\n",
       " 'price',\n",
       " 'primary',\n",
       " 'prime',\n",
       " 'priority',\n",
       " 'prison',\n",
       " 'private',\n",
       " 'probably',\n",
       " 'problem',\n",
       " 'process',\n",
       " 'produce',\n",
       " 'product',\n",
       " 'production',\n",
       " 'productivity',\n",
       " 'professional',\n",
       " 'program',\n",
       " 'progress',\n",
       " 'project',\n",
       " 'promise',\n",
       " 'promote',\n",
       " 'proposal',\n",
       " 'propose',\n",
       " 'prospect',\n",
       " 'protect',\n",
       " 'protection',\n",
       " 'provide',\n",
       " 'provider',\n",
       " 'public',\n",
       " 'publish',\n",
       " 'purchase',\n",
       " 'pushing',\n",
       " 'putin',\n",
       " 'quarter',\n",
       " 'quarterly',\n",
       " 'question',\n",
       " 'quickly',\n",
       " 'quite',\n",
       " 'quota',\n",
       " 'quoti',\n",
       " 'quotthe',\n",
       " 'quotwe',\n",
       " 'raise',\n",
       " 'raising',\n",
       " 'rally',\n",
       " 'ramallah',\n",
       " 'range',\n",
       " 'rates',\n",
       " 'rather',\n",
       " 'rating',\n",
       " 'reach',\n",
       " 'ready',\n",
       " 'reality',\n",
       " 'really',\n",
       " 'reason',\n",
       " 'rebound',\n",
       " 'receive',\n",
       " 'recent',\n",
       " 'recently',\n",
       " 'recession',\n",
       " 'recognize',\n",
       " 'record',\n",
       " 'recover',\n",
       " 'recovery',\n",
       " 'redmond',\n",
       " 'reduce',\n",
       " 'referendum',\n",
       " 'reflect',\n",
       " 'reform',\n",
       " 'refugee',\n",
       " 'refuse',\n",
       " 'regard',\n",
       " 'region',\n",
       " 'regional',\n",
       " 'regulation',\n",
       " 'relate',\n",
       " 'relations',\n",
       " 'relationship',\n",
       " 'release',\n",
       " 'remain',\n",
       " 'remains',\n",
       " 'remark',\n",
       " 'remove',\n",
       " 'replace',\n",
       " 'report',\n",
       " 'reporter',\n",
       " 'represent',\n",
       " 'republican',\n",
       " 'request',\n",
       " 'require',\n",
       " 'research',\n",
       " 'researcher',\n",
       " 'reserve',\n",
       " 'resident',\n",
       " 'resolution',\n",
       " 'resource',\n",
       " 'respond',\n",
       " 'response',\n",
       " 'result',\n",
       " 'retail',\n",
       " 'return',\n",
       " 'reuters',\n",
       " 'reveal',\n",
       " 'revenue',\n",
       " 'review',\n",
       " 'revive',\n",
       " 'right',\n",
       " 'rising',\n",
       " 'rival',\n",
       " 'robust',\n",
       " 'round',\n",
       " 'running',\n",
       " 'russia',\n",
       " 'russian',\n",
       " 'sales',\n",
       " 'sanction',\n",
       " 'sander',\n",
       " 'saturday',\n",
       " 'satya',\n",
       " 'saudi',\n",
       " 'saying',\n",
       " 'scalia',\n",
       " 'schedule',\n",
       " 'school',\n",
       " 'science',\n",
       " 'search',\n",
       " 'season',\n",
       " 'second',\n",
       " 'secretary',\n",
       " 'sector',\n",
       " 'secure',\n",
       " 'security',\n",
       " 'seeking',\n",
       " 'select',\n",
       " 'senate',\n",
       " 'senator',\n",
       " 'senior',\n",
       " 'sense',\n",
       " 'sentence',\n",
       " 'september',\n",
       " 'series',\n",
       " 'serious',\n",
       " 'serve',\n",
       " 'server',\n",
       " 'service',\n",
       " 'services',\n",
       " 'session',\n",
       " 'seven',\n",
       " 'several',\n",
       " 'share',\n",
       " 'sharing',\n",
       " 'sharp',\n",
       " 'shift',\n",
       " 'shock',\n",
       " 'shooting',\n",
       " 'short',\n",
       " 'showing',\n",
       " 'shrink',\n",
       " 'signal',\n",
       " 'significant',\n",
       " 'similar',\n",
       " 'since',\n",
       " 'singapore',\n",
       " 'single',\n",
       " 'sitting',\n",
       " 'situation',\n",
       " 'skype',\n",
       " 'slightly',\n",
       " 'slowdown',\n",
       " 'slowing',\n",
       " 'sluggish',\n",
       " 'slump',\n",
       " 'small',\n",
       " 'smart',\n",
       " 'smartphone',\n",
       " 'socalled',\n",
       " 'social',\n",
       " 'society',\n",
       " 'software',\n",
       " 'solid',\n",
       " 'solidarity',\n",
       " 'solution',\n",
       " 'something',\n",
       " 'sound',\n",
       " 'source',\n",
       " 'south',\n",
       " 'southeast',\n",
       " 'space',\n",
       " 'speak',\n",
       " 'speaker',\n",
       " 'speaking',\n",
       " 'special',\n",
       " 'speech',\n",
       " 'spend',\n",
       " 'spending',\n",
       " 'spoke',\n",
       " 'spring',\n",
       " 'staff',\n",
       " 'stage',\n",
       " 'stand',\n",
       " 'standard',\n",
       " 'start',\n",
       " 'starting',\n",
       " 'startup',\n",
       " 'state',\n",
       " 'statement',\n",
       " 'statistics',\n",
       " 'steady',\n",
       " 'steps',\n",
       " 'still',\n",
       " 'stimulus',\n",
       " 'stock',\n",
       " 'stocks',\n",
       " 'storage',\n",
       " 'store',\n",
       " 'story',\n",
       " 'strategy',\n",
       " 'street',\n",
       " 'strength',\n",
       " 'strike',\n",
       " 'strong',\n",
       " 'struggle',\n",
       " 'student',\n",
       " 'studio',\n",
       " 'study',\n",
       " 'success',\n",
       " 'suffer',\n",
       " 'suggest',\n",
       " 'summer',\n",
       " 'summit',\n",
       " 'sunday',\n",
       " 'support',\n",
       " 'supporter',\n",
       " 'supreme',\n",
       " 'surface',\n",
       " 'surge',\n",
       " 'surprise',\n",
       " 'survey',\n",
       " 'syria',\n",
       " 'syrian',\n",
       " 'system',\n",
       " 'tablet',\n",
       " 'tackle',\n",
       " 'taking',\n",
       " 'talks',\n",
       " 'target',\n",
       " 'technology',\n",
       " 'terms',\n",
       " 'territory',\n",
       " 'terror',\n",
       " 'terrorism',\n",
       " 'terrorist',\n",
       " 'texas',\n",
       " 'thanks',\n",
       " 'thats',\n",
       " 'there',\n",
       " 'theyre',\n",
       " 'thing',\n",
       " 'things',\n",
       " 'think',\n",
       " 'third',\n",
       " 'though',\n",
       " 'thought',\n",
       " 'thousand',\n",
       " 'threat',\n",
       " 'threaten',\n",
       " 'three',\n",
       " 'throw',\n",
       " 'thursday',\n",
       " 'times',\n",
       " 'title',\n",
       " 'today',\n",
       " 'together',\n",
       " 'tokyo',\n",
       " 'total',\n",
       " 'tough',\n",
       " 'tourism',\n",
       " 'toward',\n",
       " 'towards',\n",
       " 'track',\n",
       " 'trade',\n",
       " 'trading',\n",
       " 'transgender',\n",
       " 'transition',\n",
       " 'travel',\n",
       " 'trend',\n",
       " 'trillion',\n",
       " 'trouble',\n",
       " 'trudeau',\n",
       " 'trump',\n",
       " 'tuesday',\n",
       " 'turkey',\n",
       " 'twitter',\n",
       " 'uncertainty',\n",
       " 'unemployment',\n",
       " 'union',\n",
       " 'unite',\n",
       " 'university',\n",
       " 'unveil',\n",
       " 'upcoming',\n",
       " 'update',\n",
       " 'upgrade',\n",
       " 'using',\n",
       " 'value',\n",
       " 'vehicle',\n",
       " 'version',\n",
       " 'victim',\n",
       " 'video',\n",
       " 'vietnam',\n",
       " 'violence',\n",
       " 'virtual',\n",
       " 'vision',\n",
       " 'visit',\n",
       " 'vladimir',\n",
       " 'voice',\n",
       " 'voter',\n",
       " 'warning',\n",
       " 'washington',\n",
       " 'watch',\n",
       " 'water',\n",
       " 'weakness',\n",
       " 'website',\n",
       " 'wednesday',\n",
       " 'weekend',\n",
       " 'weigh',\n",
       " 'welcome',\n",
       " 'whats',\n",
       " 'whether',\n",
       " 'white',\n",
       " 'whose',\n",
       " 'windows',\n",
       " 'within',\n",
       " 'without',\n",
       " 'woman',\n",
       " 'words',\n",
       " 'worker',\n",
       " 'working',\n",
       " 'works',\n",
       " 'world',\n",
       " 'worry',\n",
       " 'worst',\n",
       " 'worth',\n",
       " 'would',\n",
       " 'write',\n",
       " 'years',\n",
       " 'yellen',\n",
       " 'yesterday',\n",
       " 'young']"
      ]
     },
     "execution_count": 53,
     "metadata": {},
     "output_type": "execute_result"
    }
   ],
   "source": [
    "feature_names_vec2 = vectorizer2.get_feature_names()\n",
    "feature_names_vec2"
   ]
  },
  {
   "cell_type": "markdown",
   "metadata": {},
   "source": [
    "#### Exercise 7.11: Non-negative Matrix Factorization"
   ]
  },
  {
   "cell_type": "code",
   "execution_count": 54,
   "metadata": {},
   "outputs": [
    {
     "data": {
      "text/plain": [
       "NMF(alpha=0.1, beta_loss='frobenius', init='nndsvda', l1_ratio=0.5,\n",
       "    max_iter=200, n_components=4, random_state=0, shuffle=False, solver='mu',\n",
       "    tol=0.0001, verbose=0)"
      ]
     },
     "execution_count": 54,
     "metadata": {},
     "output_type": "execute_result"
    }
   ],
   "source": [
    "# define and fit nmf model\n",
    "\n",
    "nmf = sklearn.decomposition.NMF(\n",
    "    n_components=4,\n",
    "    init=\"nndsvda\",\n",
    "    solver=\"mu\",\n",
    "    beta_loss=\"frobenius\",\n",
    "    random_state=0, \n",
    "    alpha=0.1, \n",
    "    l1_ratio=0.5\n",
    ")\n",
    "nmf.fit(clean_vec2)"
   ]
  },
  {
   "cell_type": "code",
   "execution_count": 55,
   "metadata": {},
   "outputs": [],
   "source": [
    "# run function to produce nice output tables\n",
    "\n",
    "W_df, H_df = get_topics(\n",
    "    mod=nmf,\n",
    "    vec=clean_vec2,\n",
    "    names=feature_names_vec2,\n",
    "    docs=raw,\n",
    "    ndocs=number_docs, \n",
    "    nwords=number_words\n",
    ")"
   ]
  },
  {
   "cell_type": "code",
   "execution_count": 56,
   "metadata": {},
   "outputs": [
    {
     "name": "stdout",
     "output_type": "stream",
     "text": [
      "                         Topic0              Topic1                Topic2  \\\n",
      "Word0           (0.0696, obama)   (0.0628, economy)    (0.087, microsoft)   \n",
      "Word1       (0.0645, president)  (0.0212, economic)     (0.0305, windows)   \n",
      "Word2          (0.0484, barack)    (0.0179, growth)     (0.0196, company)   \n",
      "Word3      (0.0157, washington)    (0.0144, global)    (0.0162, announce)   \n",
      "Word4           (0.0149, house)     (0.0128, china)  (0.0124, microsofts)   \n",
      "Word5           (0.0144, white)   (0.0111, percent)      (0.0118, update)   \n",
      "Word6          (0.0127, obamas)     (0.0109, world)     (0.0106, release)   \n",
      "Word7           (0.0109, state)   (0.0097, quarter)         (0.01, today)   \n",
      "Word8  (0.0096, administration)    (0.0093, market)     (0.0096, surface)   \n",
      "Word9           (0.0081, first)   (0.0086, country)       (0.0085, cloud)   \n",
      "\n",
      "                        Topic3  \n",
      "Word0       (0.088, palestine)  \n",
      "Word1    (0.0766, palestinian)  \n",
      "Word2         (0.031, israeli)  \n",
      "Word3         (0.0279, israel)  \n",
      "Word4          (0.0171, state)  \n",
      "Word5  (0.0094, international)  \n",
      "Word6       (0.0092, ramallah)  \n",
      "Word7       (0.0089, minister)  \n",
      "Word8          (0.0079, unite)  \n",
      "Word9          (0.0078, force)  \n"
     ]
    }
   ],
   "source": [
    "# word-topic table\n",
    "\n",
    "print(W_df)"
   ]
  },
  {
   "cell_type": "code",
   "execution_count": 57,
   "metadata": {},
   "outputs": [
    {
     "name": "stdout",
     "output_type": "stream",
     "text": [
      "                                                 Topic0  \\\n",
      "Doc0  (0.0844, MICROSOFT'S replacement power cords f...   \n",
      "Doc1  (0.0844, Las Vegas air traffic is the simplest...   \n",
      "Doc2  (0.0844, Russia is not ready to share US Presi...   \n",
      "Doc3  (0.0844, On Friday, the Labor Department relea...   \n",
      "Doc4  (0.0844, President Obama on Thursday admitted ...   \n",
      "Doc5  (0.0844, The strategy paper, a copy of which w...   \n",
      "Doc6  (0.0844, The Ministry of Economy of the United...   \n",
      "Doc7  (0.0844, President Obama with visitors in the ...   \n",
      "Doc8  (0.0844, Microsoft may not have played well in...   \n",
      "Doc9  (0.0844, During his weekly address on Saturday...   \n",
      "\n",
      "                                                 Topic1  \\\n",
      "Doc0  (0.0677, President Obama pledged that American...   \n",
      "Doc1  (0.0677, US President Barack Obama (right), fl...   \n",
      "Doc2  (0.0677, President Barack Obama speaks during ...   \n",
      "Doc3  (0.0677, Greece's economy will continue to con...   \n",
      "Doc4  (0.0677, A number of new partnerships could me...   \n",
      "Doc5  (0.0677, WASHINGTON (AP) — President Barack Ob...   \n",
      "Doc6  (0.0677, Washington, DC \"\"\" After seven years ...   \n",
      "Doc7  (0.0677, San Francisco: Microsoft Corp has sue...   \n",
      "Doc8  (0.0677, First, President Barack Obama told re...   \n",
      "Doc9  (0.0677, Microsoft recently announced its new ...   \n",
      "\n",
      "                                                 Topic2  \\\n",
      "Doc0  (0.0836, All that remains of Aisha Al-amouri's...   \n",
      "Doc1  (0.0836, The reason Microsoft has given for pu...   \n",
      "Doc2  (0.0836, China Views Untapped Consumer Market ...   \n",
      "Doc3  (0.0836, 164,000 Bruce Springsteen fans are de...   \n",
      "Doc4  (0.0836, Microsoft Research does a lot of impr...   \n",
      "Doc5  (0.0836, Encouraging data points to stabilisat...   \n",
      "Doc6  (0.0836, China's fresh economic data promises ...   \n",
      "Doc7  (0.0836, &quot;The MTB will help spur investme...   \n",
      "Doc8  (0.0836, President Barack Obama launched a bro...   \n",
      "Doc9  (0.0836, President Obama on Friday announced h...   \n",
      "\n",
      "                                                 Topic3  \n",
      "Doc0  (0.1078, Low oil prices, economic sanctions, p...  \n",
      "Doc1  (0.1078, The 2015 global economy knocked the w...  \n",
      "Doc2  (0.0857, (Reuters) \"\"\" On Monday, U.S. Distric...  \n",
      "Doc3  (0.0853, President Barack Obama, center, walks...  \n",
      "Doc4  (0.0842, According to the Dun &amp; Bradstreet...  \n",
      "Doc5  (0.0828, I hope the Committee on the Future Ec...  \n",
      "Doc6  (0.0815, According to SurveyMonkey's research ...  \n",
      "Doc7  (0.0815, Microsoft today introduces a pretty s...  \n",
      "Doc8  (0.0815, (Reuters) - Microsoft Corp (MSFT.O) e...  \n",
      "Doc9  (0.0815, Larry Summers warns of “secular stagn...  \n"
     ]
    }
   ],
   "source": [
    "# document-topic table\n",
    "\n",
    "print(H_df)"
   ]
  },
  {
   "cell_type": "markdown",
   "metadata": {},
   "source": [
    "#### Exercise 7.12: Visualizing NMF"
   ]
  },
  {
   "cell_type": "code",
   "execution_count": 58,
   "metadata": {},
   "outputs": [
    {
     "name": "stdout",
     "output_type": "stream",
     "text": [
      "(92944, 4)\n",
      "[[5.12392245e-02 3.60214289e-15 3.51025936e-34 8.50285412e-16]\n",
      " [7.44357001e-04 2.04139764e-02 6.82978775e-15 2.11646558e-03]\n",
      " [2.94588796e-15 1.94076684e-02 4.76912036e-21 1.24587869e-18]\n",
      " ...\n",
      " [9.84363934e-06 3.41089134e-03 6.13273362e-04 3.24073086e-02]\n",
      " [6.60686157e-07 1.32974816e-07 3.34077799e-08 6.14337842e-02]\n",
      " [4.54812983e-05 1.16309657e-04 1.84757999e-02 2.00685972e-03]]\n"
     ]
    }
   ],
   "source": [
    "# output raw document-topic matrix for t-SNE plot\n",
    "\n",
    "nmf_transform = nmf.transform(clean_vec2)\n",
    "print(nmf_transform.shape)\n",
    "print(nmf_transform)"
   ]
  },
  {
   "cell_type": "code",
   "execution_count": 59,
   "metadata": {},
   "outputs": [
    {
     "name": "stdout",
     "output_type": "stream",
     "text": [
      "LENGTH:\n",
      "92944\n",
      "\n",
      "COUNTS:\n",
      "[[    0 28973]\n",
      " [    1 32950]\n",
      " [    2 22146]\n",
      " [    3  8875]]\n",
      "\n"
     ]
    },
    {
     "data": {
      "image/png": "[encoded data removed]",
      "text/plain": [
       "<Figure size 432x288 with 1 Axes>"
      ]
     },
     "metadata": {
      "needs_background": "light"
     },
     "output_type": "display_data"
    }
   ],
   "source": [
    "# run function to produce t-SNE plot\n",
    "\n",
    "plot_tsne(data=nmf_transform, threshold=0)"
   ]
  }
 ],
 "metadata": {
  "kernelspec": {
   "display_name": "Python 3",
   "language": "python",
   "name": "python3"
  },
  "language_info": {
   "codemirror_mode": {
    "name": "ipython",
    "version": 3
   },
   "file_extension": ".py",
   "mimetype": "text/x-python",
   "name": "python",
   "nbconvert_exporter": "python",
   "pygments_lexer": "ipython3",
   "version": "3.7.4"
  }
 },
 "nbformat": 4,
 "nbformat_minor": 2
}
